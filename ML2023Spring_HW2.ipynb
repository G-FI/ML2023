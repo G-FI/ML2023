{
  "cells": [
    {
      "cell_type": "markdown",
      "metadata": {
        "id": "view-in-github",
        "colab_type": "text"
      },
      "source": [
        "<a href=\"https://colab.research.google.com/github/G-FI/ML2023/blob/main/ML2023Spring_HW2.ipynb\" target=\"_parent\"><img src=\"https://colab.research.google.com/assets/colab-badge.svg\" alt=\"Open In Colab\"/></a>"
      ]
    },
    {
      "cell_type": "markdown",
      "metadata": {
        "id": "OYlaRwNu7ojq"
      },
      "source": [
        "# **Homework 2: Phoneme Classification**\n"
      ]
    },
    {
      "cell_type": "markdown",
      "metadata": {
        "id": "dwR7ViJbVXQm"
      },
      "source": [
        "作业说明：\n",
        "1. concatenate 11个frame形成pohonma，作为input vector，然后分类该vector的lable\n",
        "2. 一个窄深，一个宽浅两个model，观察training/validation 精度，训练速度，泛化能力\n",
        "3. 添加dropout观察状况\n"
      ]
    },
    {
      "cell_type": "markdown",
      "metadata": {
        "id": "JTXcgTaDdAk5"
      },
      "source": [
        "**说明**\n",
        "本次作业大部分在本地完成，不太熟悉pytorch需要调试完成。\n",
        "将数据集下载并解压到当前目录下"
      ]
    },
    {
      "cell_type": "markdown",
      "metadata": {
        "id": "A7DRC5V7_8A5"
      },
      "source": [
        "Objectives:\n",
        "* Solve a classification problem with deep neural networks (DNNs).\n",
        "* Understand recursive neural networks (RNNs).\n",
        "\n",
        "If you have any questions, please contact the TAs via TA hours, NTU COOL, or email to mlta-2023-spring@googlegroups.com"
      ]
    },
    {
      "cell_type": "markdown",
      "metadata": {
        "id": "KVUGfWTo7_Oj"
      },
      "source": [
        "# Download Data\n",
        "Download data from google drive, then unzip it.\n",
        "\n",
        "You should have\n",
        "- `libriphone/train_split.txt`: training metadata\n",
        "- `libriphone/train_labels`: training labels\n",
        "- `libriphone/test_split.txt`: testing metadata\n",
        "- `libriphone/feat/train/*.pt`: training feature\n",
        "- `libriphone/feat/test/*.pt`:  testing feature\n",
        "\n",
        "after running the following block.\n",
        "\n",
        "> **Notes: if the google drive link is dead, you can download the data directly from [Kaggle](https://www.kaggle.com/c/ml2023spring-hw2/data) and upload it to the workspace.**\n"
      ]
    },
    {
      "cell_type": "markdown",
      "metadata": {
        "id": "pADUiYODJE1O"
      },
      "source": [
        "# Some Utility Functions\n",
        "**Fixes random number generator seeds for reproducibility.**"
      ]
    },
    {
      "cell_type": "code",
      "execution_count": null,
      "metadata": {
        "id": "BsZKgBZQJjaE"
      },
      "outputs": [],
      "source": [
        "import numpy as np\n",
        "import torch\n",
        "import random\n",
        "\n",
        "def same_seeds(seed):\n",
        "    random.seed(seed)\n",
        "    np.random.seed(seed)\n",
        "    torch.manual_seed(seed)\n",
        "    if torch.cuda.is_available():\n",
        "        torch.cuda.manual_seed(seed)\n",
        "        torch.cuda.manual_seed_all(seed)\n",
        "    torch.backends.cudnn.benchmark = False\n",
        "    torch.backends.cudnn.deterministic = True"
      ]
    },
    {
      "cell_type": "code",
      "execution_count": null,
      "metadata": {
        "id": "cvkdEEK4dAk7",
        "outputId": "fb127474-e513-43d5-fe31-b577387dd1e0"
      },
      "outputs": [
        {
          "name": "stdout",
          "output_type": "stream",
          "text": [
            "DEVICE: cuda\n"
          ]
        }
      ],
      "source": [
        "seed = 1314\n",
        "same_seeds(seed)\n",
        "device = 'cuda' if torch.cuda.is_available() else 'cpu'\n",
        "print(f'DEVICE: {device}')"
      ]
    },
    {
      "cell_type": "markdown",
      "metadata": {
        "id": "_L_4anls8Drv"
      },
      "source": [
        "**Helper functions to pre-process the training data from raw MFCC features of each utterance.**\n",
        "\n",
        "A phoneme may span several frames and is dependent to past and future frames. \\\n",
        "Hence we concatenate neighboring phonemes for training to achieve higher accuracy. The **concat_feat** function concatenates past and future k frames (total 2k+1 = n frames), and we predict the center frame.\n",
        "\n",
        "Feel free to modify the data preprocess functions, but **do not drop any frame** (if you modify the functions, remember to check that the number of frames are the same as mentioned in the slides)"
      ]
    },
    {
      "cell_type": "code",
      "execution_count": null,
      "metadata": {
        "id": "IJjLT8em-y9G"
      },
      "outputs": [],
      "source": [
        "import os\n",
        "import torch\n",
        "from tqdm import tqdm\n",
        "\n",
        "def load_feat(path):\n",
        "    feat = torch.load(path)\n",
        "    return feat\n",
        "\n",
        "def shift(x, n):\n",
        "    if n < 0:\n",
        "        left = x[0].repeat(-n, 1)\n",
        "        right = x[:n]\n",
        "    elif n > 0:\n",
        "        right = x[-1].repeat(n, 1)\n",
        "        left = x[n:]\n",
        "    else:\n",
        "        return x\n",
        "\n",
        "    return torch.cat((left, right), dim=0)\n",
        "\n",
        "def concat_feat(x, concat_n):\n",
        "    assert concat_n % 2 == 1 # n must be odd\n",
        "    if concat_n < 2:\n",
        "        return x\n",
        "    seq_len, feature_dim = x.size(0), x.size(1)\n",
        "    x = x.repeat(1, concat_n)\n",
        "    x = x.view(seq_len, concat_n, feature_dim).permute(1, 0, 2) # concat_n, seq_len, feature_dim\n",
        "    mid = (concat_n // 2)\n",
        "    for r_idx in range(1, mid+1):\n",
        "        x[mid + r_idx, :] = shift(x[mid + r_idx], r_idx)\n",
        "        x[mid - r_idx, :] = shift(x[mid - r_idx], -r_idx)\n",
        "\n",
        "    return x.permute(1, 0, 2).view(seq_len, concat_n * feature_dim)\n",
        "\n",
        "# train_split 中每一行代表一个发音，它索引的.pt文件为该发音对应的frames，需要把它们拼接成phoneme作为网络的输入向量\n",
        "# label使用dict保存, <发音文件名, 其中fram的分类列表>\n",
        "def preprocess_data(split, feat_dir, phone_path, concat_nframes, train_ratio=0.8, random_seed=1213):\n",
        "    class_num = 41 # NOTE: pre-computed, should not need change\n",
        "\n",
        "    if split == 'train' or split == 'val':\n",
        "        mode = 'train'\n",
        "    elif split == 'test':\n",
        "        mode = 'test'\n",
        "    else:\n",
        "        raise ValueError('Invalid \\'split\\' argument for dataset: PhoneDataset!')\n",
        "\n",
        "    label_dict = {}\n",
        "    if mode == 'train':\n",
        "        # 读取label\n",
        "        for line in open('/'.join([phone_path, f'{mode}_labels.txt'])).readlines():\n",
        "            line = line.strip('\\n').split(' ')\n",
        "            label_dict[line[0]] = [int(p) for p in line[1:]]\n",
        "\n",
        "        # split training and validation data\n",
        "        usage_list = open(os.path.join(phone_path, 'train_split.txt')).readlines()\n",
        "\n",
        "        # 使用同一个random_seed，两次shuffle结果相同，取前一部分做train后一部分做validate\n",
        "        random.seed(random_seed)\n",
        "        random.shuffle(usage_list)\n",
        "        train_len = int(len(usage_list) * train_ratio)\n",
        "        usage_list = usage_list[:train_len] if split == 'train' else usage_list[train_len:]\n",
        "\n",
        "    elif mode == 'test':\n",
        "        usage_list = open(os.path.join(phone_path, 'test_split.txt')).readlines()\n",
        "\n",
        "    usage_list = [line.strip('\\n') for line in usage_list]\n",
        "    print('[Dataset] - # phone classes: ' + str(class_num) + ', number of utterances for ' + split + ': ' + str(len(usage_list)))\n",
        "\n",
        "    max_len = 3000000\n",
        "    X = torch.empty(max_len, 39 * concat_nframes)\n",
        "    if mode == 'train':\n",
        "        y = torch.empty(max_len, dtype=torch.long)\n",
        "\n",
        "    idx = 0\n",
        "    for i, fname in tqdm(enumerate(usage_list)):\n",
        "        # 读取了n个frames\n",
        "        feat = load_feat(os.path.join(feat_dir, mode, f'{fname}.pt'))\n",
        "        cur_len = len(feat)\n",
        "        #通过concatenate将n个frame(39*n)变为n个phoneme(39*k * n)\n",
        "        feat = concat_feat(feat, concat_nframes)\n",
        "        # 标签有41类\n",
        "        if mode == 'train':\n",
        "          label = torch.LongTensor(label_dict[fname])\n",
        "\n",
        "        # 将这一个发音\n",
        "        X[idx: idx + cur_len, :] = feat\n",
        "        if mode == 'train':\n",
        "          y[idx: idx + cur_len] = label\n",
        "\n",
        "        idx += cur_len\n",
        "\n",
        "    X = X[:idx, :]\n",
        "    if mode == 'train':\n",
        "      y = y[:idx]\n",
        "\n",
        "    print(f'[INFO] {split} set')\n",
        "    print(X.shape)\n",
        "    if mode == 'train':\n",
        "      print(y.shape)\n",
        "      return X, y\n",
        "    else:\n",
        "      return X\n"
      ]
    },
    {
      "cell_type": "markdown",
      "metadata": {
        "id": "8qrVFQ3KdAk9"
      },
      "source": [
        "**对于RNN的数据处理方式**"
      ]
    },
    {
      "cell_type": "code",
      "execution_count": null,
      "metadata": {
        "id": "reZs8WDydAk9"
      },
      "outputs": [],
      "source": [
        "\"\"\"input:\n",
        "    frames.shape = (n, 39)\n",
        "    seq_len 多少个frame作为一个phoneme\n",
        "\n",
        "  output:\n",
        "    (n, seq_len, 39) n 个frame，每一个对应(seq_len, 39)的序列\n",
        "\"\"\"\n",
        "def concat_seq(frames, seq_len):\n",
        "    num, feat_dim = frames.shape[0], frames.shape[1]\n",
        "    frames = concat_feat(frames, seq_len)\n",
        "    frames = frames.view(num, seq_len, feat_dim)\n",
        "    return frames\n",
        "\n",
        "\n",
        "\n",
        "# train_split 中每一行代表一个发音，它索引的.pt文件为该发音对应的frames，需要把它们拼接成phoneme作为网络的输入向量\n",
        "# label使用dict保存, <发音文件名, 其中fram的分类列表>\n",
        "def preprocess_data_rnn(split, feat_dir, phone_path, seq_len, train_ratio=0.8, random_seed=1213):\n",
        "    class_num = 41 # NOTE: pre-computed, should not need change\n",
        "\n",
        "    if split == 'train' or split == 'val':\n",
        "        mode = 'train'\n",
        "    elif split == 'test':\n",
        "        mode = 'test'\n",
        "    else:\n",
        "        raise ValueError('Invalid \\'split\\' argument for dataset: PhoneDataset!')\n",
        "\n",
        "    label_dict = {}\n",
        "    if mode == 'train':\n",
        "        # 读取label\n",
        "        for line in open('/'.join([phone_path, f'{mode}_labels.txt'])).readlines():\n",
        "            line = line.strip('\\n').split(' ')\n",
        "            label_dict[line[0]] = [int(p) for p in line[1:]]\n",
        "\n",
        "        # split training and validation data\n",
        "        usage_list = open(os.path.join(phone_path, 'train_split.txt')).readlines()\n",
        "\n",
        "        # 使用同一个random_seed，两次shuffle结果相同，取前一部分做train后一部分做validate\n",
        "        random.seed(random_seed)\n",
        "        random.shuffle(usage_list)\n",
        "        train_len = int(len(usage_list) * train_ratio)\n",
        "        usage_list = usage_list[:train_len] if split == 'train' else usage_list[train_len:]\n",
        "\n",
        "    elif mode == 'test':\n",
        "        usage_list = open(os.path.join(phone_path, 'test_split.txt')).readlines()\n",
        "\n",
        "    usage_list = [line.strip('\\n') for line in usage_list]\n",
        "    print('[Dataset] - # phone classes: ' + str(class_num) + ', number of utterances for ' + split + ': ' + str(len(usage_list)))\n",
        "\n",
        "    max_len = 3000000\n",
        "    X = torch.empty(max_len, seq_len, 39)\n",
        "    if mode == 'train':\n",
        "        y = torch.empty(max_len, dtype=torch.long)\n",
        "\n",
        "    idx = 0\n",
        "    for i, fname in tqdm(enumerate(usage_list)):\n",
        "        # 读取了n个frames\n",
        "        feat = load_feat(os.path.join(feat_dir, mode, f'{fname}.pt'))\n",
        "        cur_len = len(feat)\n",
        "\n",
        "        # 剪切掉对seq_len求余之后多余的feature\n",
        "        feat = concat_seq(feat, seq_len)\n",
        "\n",
        "\n",
        "        # 标签有41类\n",
        "        if mode == 'train':\n",
        "          # 对应剪切多余的label\n",
        "          label = torch.LongTensor(label_dict[fname])\n",
        "\n",
        "        X[idx: idx + cur_len, :] = feat\n",
        "        if mode == 'train':\n",
        "          y[idx: idx + cur_len] = label\n",
        "\n",
        "\n",
        "        idx += cur_len\n",
        "\n",
        "    X = X[:idx, :]\n",
        "    if mode == 'train':\n",
        "      y = y[:idx]\n",
        "      y = y.reshape(len(y),1).repeat(1, seq_len)\n",
        "\n",
        "    # 每一个sequence有seq_len个feature，原本每个feature对应一个label\n",
        "    # 先择每个sequence对应一个label，但是在运算时RNN输出为(batch_size, seq_len, hidden_dim)\n",
        "    # 需要将其变为 (batch_size * seq_len, hidden_dim)只有两个维度的tensor才能连接到FC层\n",
        "    # 通过全连接层之后输出变为此时model的输出就成了(batch_size * seq_len, out_putdim)\n",
        "    # 而label若不变的话，仍是(batch_size, 1)维度的，因此在batch_size这个维度不匹配\n",
        "    # 因此认为一个sequence中的每个feature都对应中间feature对应的label\n",
        "\n",
        "\n",
        "\n",
        "    print(f'[INFO] {split} set')\n",
        "    print(X.shape)\n",
        "    if mode == 'train':\n",
        "      print(y.shape)\n",
        "      return X, y\n",
        "    else:\n",
        "      return X"
      ]
    },
    {
      "cell_type": "markdown",
      "metadata": {
        "id": "us5XW_x6udZQ"
      },
      "source": [
        "# Dataset"
      ]
    },
    {
      "cell_type": "code",
      "execution_count": null,
      "metadata": {
        "id": "Fjf5EcmJtf4e"
      },
      "outputs": [],
      "source": [
        "import torch\n",
        "from torch.utils.data import Dataset\n",
        "\n",
        "class LibriDataset(Dataset):\n",
        "    def __init__(self, X, y=None):\n",
        "        self.data = X\n",
        "        if y is not None:\n",
        "            self.label = torch.LongTensor(y)\n",
        "        else:\n",
        "            self.label = None\n",
        "\n",
        "    def __getitem__(self, idx):\n",
        "        if self.label is not None:\n",
        "            data = self.data[idx]\n",
        "            label = self.label[idx].reshape(-1)\n",
        "            return data, label\n",
        "        else:\n",
        "            return self.data[idx]\n",
        "\n",
        "    def __len__(self):\n",
        "        return len(self.data)\n"
      ]
    },
    {
      "cell_type": "markdown",
      "metadata": {
        "id": "IRqKNvNZwe3V"
      },
      "source": [
        "# Model\n",
        "Feel free to modify the structure of the model."
      ]
    },
    {
      "cell_type": "code",
      "execution_count": null,
      "metadata": {
        "id": "Bg-GRd7ywdrL"
      },
      "outputs": [],
      "source": [
        "import torch.nn as nn\n",
        "\n",
        "class BasicBlock(nn.Module):\n",
        "    def __init__(self, input_dim, output_dim):\n",
        "        super(BasicBlock, self).__init__()\n",
        "\n",
        "        # TODO: apply batch normalization and dropout for strong baseline.\n",
        "        # Reference: https://pytorch.org/docs/stable/generated/torch.nn.BatchNorm1d.html (batch normalization)\n",
        "        #       https://pytorch.org/docs/stable/generated/torch.nn.Dropout.html (dropout)\n",
        "        self.linear = nn.Linear(input_dim, output_dim)\n",
        "        nn.init.kaiming_normal_(self.linear.weight, a=0, mode='fan_in', nonlinearity='relu')\n",
        "        self.block = nn.Sequential(\n",
        "            self.linear,\n",
        "            nn.BatchNorm1d(output_dim),\n",
        "            nn.ReLU(),\n",
        "            nn.Dropout(p=0.25),\n",
        "        )\n",
        "\n",
        "    def forward(self, x):\n",
        "        x = self.block(x)\n",
        "        return x\n",
        "\n",
        "\n",
        "class Classifier(nn.Module):\n",
        "    def __init__(self, input_dim, output_dim=41, hidden_layers=1, hidden_dim=256):\n",
        "        super(Classifier, self).__init__()\n",
        "\n",
        "        self.fc = nn.Sequential(\n",
        "            BasicBlock(input_dim, hidden_dim),\n",
        "            *[BasicBlock(hidden_dim, hidden_dim) for _ in range(hidden_layers)],\n",
        "            nn.Linear(hidden_dim, output_dim)\n",
        "        )\n",
        "\n",
        "    def forward(self, x):\n",
        "        x = self.fc(x)\n",
        "        return x"
      ]
    },
    {
      "cell_type": "markdown",
      "metadata": {
        "id": "l61bnZyJdAk-"
      },
      "source": [
        "**简单RNN架构**"
      ]
    },
    {
      "cell_type": "code",
      "execution_count": null,
      "metadata": {
        "id": "lyK5dW7idAk-"
      },
      "outputs": [],
      "source": [
        "class ClassifierRNN(nn.Module):\n",
        "    def __init__(self, input_dim, output_dim = 41, hidden_layer=1, hidden_dim=256):\n",
        "        super(ClassifierRNN, self).__init__()\n",
        "\n",
        "        self.hidden_dim = hidden_dim\n",
        "        self.hidden_layer = hidden_layer\n",
        "        self.output_dim = output_dim\n",
        "        self.bidirectional = False\n",
        "        self.rnn = nn.RNN(input_dim, hidden_dim, hidden_layer, nonlinearity='tanh', batch_first=True)\n",
        "        self.fc = nn.Linear(hidden_dim, output_dim)\n",
        "\n",
        "    '''\n",
        "        input:\n",
        "            x: shape = (batch_size, seq_len, feature_dim)\n",
        "\n",
        "        output:\n",
        "            out: prediction one hot\n",
        "    '''\n",
        "    def forward(self, x):\n",
        "\n",
        "        h0 = self.get_h0(x.shape[0], self.hidden_dim, self.hidden_layer)\n",
        "\n",
        "        output, hn = self.rnn(x, h0)\n",
        "\n",
        "        output = output.contiguous().view(-1, self.hidden_dim)\n",
        "\n",
        "        output = self.fc(output)\n",
        "\n",
        "        return output\n",
        "\n",
        "    def get_h0(self, batch_size, hidden_dim, hidden_layer):\n",
        "        D = 1 if self.bidirectional is False else 2\n",
        "\n",
        "        h0 = torch.zeros((D * hidden_layer, batch_size, hidden_dim), dtype=torch.float32).to(device)\n",
        "        return h0\n",
        "\n",
        ""
      ]
    },
    {
      "cell_type": "markdown",
      "metadata": {
        "id": "TlIq8JeqvvHC"
      },
      "source": [
        "# Hyper-parameters"
      ]
    },
    {
      "cell_type": "code",
      "execution_count": null,
      "metadata": {
        "id": "iIHn79Iav1ri"
      },
      "outputs": [],
      "source": [
        "\n",
        "# data prarameters\n",
        "# TODO: change the value of \"concat_nframes\" for medium baseline\n",
        "concat_nframes = 11   # the number of frames to concat with, n must be odd (total 2k+1 = n frames)\n",
        "train_ratio = 0.75   # the ratio of data used for training, the rest will be used for validation\n",
        "\n",
        "# training parameters\n",
        "batch_size = 512        # batch size\n",
        "num_epoch = 100         # the number of training epoch\n",
        "learning_rate = 1e-4      # learning rate\n",
        "model_path = './model.ckpt'  # the path where the checkpoint will be saved\n",
        "\n",
        "# model parameters\n",
        "# TODO: change the value of \"hidden_layers\" or \"hidden_dim\" for medium baseline\n",
        "# 一个MFCCfeature即frame是39个维度，n个freme拼接在一起才是phoneme，对应于中间frame的phoneme的标签\n",
        "input_dim = 39 * concat_nframes  # the input dim of the model, you should not change the value\n",
        "hidden_layers = 6          # the number of hidden layers\n",
        "hidden_dim = 512           # the hidden dim"
      ]
    },
    {
      "cell_type": "code",
      "execution_count": null,
      "metadata": {
        "id": "bYok1GFddAk_"
      },
      "outputs": [],
      "source": [
        "# set_hyeper_param_for_rnn\n",
        "\n",
        "# data prarameters\n",
        "train_ratio = 0.75   # the ratio of data used for training, the rest will be used for validation\n",
        "\n",
        "# training parameters\n",
        "batch_size = 512        # batch size\n",
        "num_epoch = 100         # the number of training epoch\n",
        "learning_rate = 1e-4      # learning rate\n",
        "model_path = './model.ckpt'  # the path where the checkpoint will be saved\n",
        "\n",
        "seq_len = 11\n",
        "input_dim = 39\n",
        "\n",
        "hidden_layers = 2\n",
        "hidden_dim = 128"
      ]
    },
    {
      "cell_type": "markdown",
      "metadata": {
        "id": "IIUFRgG5yoDn"
      },
      "source": [
        "# Dataloader"
      ]
    },
    {
      "cell_type": "markdown",
      "metadata": {
        "id": "X0qQqB8FdAk_"
      },
      "source": [
        "**FC 训练数据**"
      ]
    },
    {
      "cell_type": "code",
      "execution_count": null,
      "metadata": {
        "colab": {
          "base_uri": "https://localhost:8080/"
        },
        "id": "c1zI3v5jyrDn",
        "outputId": "e2b400cb-246f-4166-a9fb-0967d38cc25e"
      },
      "outputs": [
        {
          "name": "stdout",
          "output_type": "stream",
          "text": [
            "DEVICE: cuda\n",
            "[Dataset] - # phone classes: 41, number of utterances for train: 2571\n"
          ]
        },
        {
          "name": "stderr",
          "output_type": "stream",
          "text": [
            "2571it [00:05, 496.29it/s]\n"
          ]
        },
        {
          "name": "stdout",
          "output_type": "stream",
          "text": [
            "[INFO] train set\n",
            "torch.Size([1588590, 429])\n",
            "torch.Size([1588590])\n",
            "[Dataset] - # phone classes: 41, number of utterances for val: 858\n"
          ]
        },
        {
          "name": "stderr",
          "output_type": "stream",
          "text": [
            "858it [00:01, 468.22it/s]\n"
          ]
        },
        {
          "name": "stdout",
          "output_type": "stream",
          "text": [
            "[INFO] val set\n",
            "torch.Size([528204, 429])\n",
            "torch.Size([528204])\n"
          ]
        }
      ],
      "source": [
        "from torch.utils.data import DataLoader\n",
        "import gc\n",
        "\n",
        "same_seeds(seed)\n",
        "device = 'cuda' if torch.cuda.is_available() else 'cpu'\n",
        "print(f'DEVICE: {device}')\n",
        "\n",
        "# preprocess data\n",
        "train_X, train_y = preprocess_data(split='train', feat_dir='./libriphone/feat', phone_path='./libriphone', concat_nframes=concat_nframes, train_ratio=train_ratio, random_seed=seed)\n",
        "val_X, val_y = preprocess_data(split='val', feat_dir='./libriphone/feat', phone_path='./libriphone', concat_nframes=concat_nframes, train_ratio=train_ratio, random_seed=seed)\n",
        "\n",
        "# get dataset\n",
        "train_set = LibriDataset(train_X, train_y)\n",
        "val_set = LibriDataset(val_X, val_y)\n",
        "\n",
        "# remove raw feature to save memory\n",
        "del train_X, train_y, val_X, val_y\n",
        "gc.collect()\n",
        "\n",
        "# get dataloader\n",
        "train_loader = DataLoader(train_set, batch_size=batch_size, shuffle=True)\n",
        "val_loader = DataLoader(val_set, batch_size=batch_size, shuffle=False)"
      ]
    },
    {
      "cell_type": "markdown",
      "metadata": {
        "id": "p9uRCN2VdAk_"
      },
      "source": [
        "**RNN训练数据**"
      ]
    },
    {
      "cell_type": "code",
      "execution_count": null,
      "metadata": {
        "id": "oA1p3N6RdAk_",
        "outputId": "7f423a4e-1c05-41a1-9d2f-2b186ebeabcf"
      },
      "outputs": [
        {
          "name": "stdout",
          "output_type": "stream",
          "text": [
            "[Dataset] - # phone classes: 41, number of utterances for train: 2571\n"
          ]
        },
        {
          "name": "stderr",
          "output_type": "stream",
          "text": [
            "2571it [00:06, 399.89it/s]\n"
          ]
        },
        {
          "name": "stdout",
          "output_type": "stream",
          "text": [
            "[INFO] train set\n",
            "torch.Size([1588590, 11, 39])\n",
            "torch.Size([1588590, 11])\n",
            "[Dataset] - # phone classes: 41, number of utterances for val: 858\n"
          ]
        },
        {
          "name": "stderr",
          "output_type": "stream",
          "text": [
            "858it [00:03, 240.50it/s]\n"
          ]
        },
        {
          "name": "stdout",
          "output_type": "stream",
          "text": [
            "[INFO] val set\n",
            "torch.Size([528204, 11, 39])\n",
            "torch.Size([528204, 11])\n"
          ]
        }
      ],
      "source": [
        "# RNN dataloader\n",
        "from torch.utils.data import DataLoader\n",
        "import gc\n",
        "\n",
        "# preprocess data\n",
        "train_X, train_y = preprocess_data_rnn(split='train', feat_dir='./libriphone/feat', phone_path='./libriphone', seq_len=seq_len, train_ratio=train_ratio, random_seed=seed)\n",
        "val_X, val_y = preprocess_data_rnn(split='val', feat_dir='./libriphone/feat', phone_path='./libriphone', seq_len=seq_len, train_ratio=train_ratio, random_seed=seed)\n",
        "\n",
        "# get dataset\n",
        "train_set = LibriDataset(train_X, train_y)\n",
        "val_set = LibriDataset(val_X, val_y)\n",
        "\n",
        "# remove raw feature to save memory\n",
        "del train_X, train_y, val_X, val_y\n",
        "gc.collect()\n",
        "\n",
        "# get dataloader\n",
        "train_loader = DataLoader(train_set, batch_size=batch_size, shuffle=True)\n",
        "val_loader = DataLoader(val_set, batch_size=batch_size, shuffle=False)"
      ]
    },
    {
      "cell_type": "code",
      "execution_count": null,
      "metadata": {
        "id": "xQwLbB1cdAlA",
        "outputId": "53d55713-c77c-4f9a-ddd0-916ae94d18ba"
      },
      "outputs": [
        {
          "data": {
            "text/plain": [
              "torch.Size([512, 11])"
            ]
          },
          "execution_count": 55,
          "metadata": {},
          "output_type": "execute_result"
        }
      ],
      "source": [
        "# 测试label的shape\n",
        "next(iter(train_loader))[1].shape"
      ]
    },
    {
      "cell_type": "markdown",
      "metadata": {
        "id": "pwWH1KIqzxEr"
      },
      "source": [
        "# Training"
      ]
    },
    {
      "cell_type": "code",
      "execution_count": null,
      "metadata": {
        "id": "o0FeeoC4dAlA"
      },
      "outputs": [],
      "source": [
        "from torch.utils.tensorboard import SummaryWriter\n",
        "import math\n",
        "\n",
        "writer = SummaryWriter('./run/')\n",
        "\n",
        "for epoch in range(3600):\n",
        "    y = math.sin(math.radians(epoch))\n",
        "    writer.add_scalar('val', y, epoch)"
      ]
    },
    {
      "cell_type": "markdown",
      "metadata": {
        "id": "uudLxaogdAlA"
      },
      "source": [
        "**FC 网络Training**"
      ]
    },
    {
      "cell_type": "code",
      "execution_count": null,
      "metadata": {
        "id": "QBo1XvfTdAlA"
      },
      "outputs": [],
      "source": [
        "# create model, define a loss function, and optimizer\n",
        "model = Classifier(input_dim=input_dim, hidden_layers=hidden_layers, hidden_dim=hidden_dim).to(device)"
      ]
    },
    {
      "cell_type": "code",
      "execution_count": null,
      "metadata": {
        "id": "CdMWsBs7zzNs"
      },
      "outputs": [],
      "source": [
        "import time\n",
        "from torch.utils.tensorboard import SummaryWriter\n",
        "\n",
        "def train_loop():\n",
        "    criterion = nn.CrossEntropyLoss()\n",
        "    optimizer = torch.optim.Adam(model.parameters(), lr=learning_rate)\n",
        "\n",
        "    start_time = time.time()\n",
        "\n",
        "    best_acc = 0.0\n",
        "\n",
        "    writer = SummaryWriter(\"./run\")\n",
        "\n",
        "\n",
        "    for epoch in range(num_epoch):\n",
        "        train_acc = 0.0\n",
        "        train_loss = 0.0\n",
        "        val_acc = 0.0\n",
        "        val_loss = 0.0\n",
        "\n",
        "        # training\n",
        "        model.train() # set the model to training mode\n",
        "        for i, batch in enumerate(tqdm(train_loader)):\n",
        "            features, labels = batch\n",
        "            features = features.to(device)\n",
        "            labels = labels.to(device)\n",
        "\n",
        "            optimizer.zero_grad()\n",
        "            outputs = model(features)\n",
        "\n",
        "            loss = criterion(outputs, labels)\n",
        "            loss.backward()\n",
        "            optimizer.step()\n",
        "\n",
        "            _, train_pred = torch.max(outputs, 1) # get the index of the class with the highest probability\n",
        "            train_acc += (train_pred.detach() == labels.detach()).sum().item()\n",
        "            train_loss += loss.item()\n",
        "\n",
        "        # validation\n",
        "        model.eval() # set the model to evaluation mode\n",
        "        with torch.no_grad():\n",
        "            for i, batch in enumerate(tqdm(val_loader)):\n",
        "                features, labels = batch\n",
        "                features = features.to(device)\n",
        "                labels = labels.to(device)\n",
        "                outputs = model(features)\n",
        "\n",
        "                loss = criterion(outputs, labels)\n",
        "\n",
        "                _, val_pred = torch.max(outputs, 1)\n",
        "                val_acc += (val_pred.cpu() == labels.cpu()).sum().item() # get the index of the class with the highest probability\n",
        "                val_loss += loss.item()\n",
        "\n",
        "        writer.add_scalar('acc/train', train_acc/len(train_set))\n",
        "        writer.add_scalar('acc/validation', val_acc/len(val_set))\n",
        "\n",
        "        print(f'[{epoch+1:03d}/{num_epoch:03d}] Train Acc: {train_acc/len(train_set):3.5f} Loss: {train_loss/len(train_loader):3.5f} | Val Acc: {val_acc/len(val_set):3.5f} loss: {val_loss/len(val_loader):3.5f}')\n",
        "\n",
        "        # if the model improves, save a checkpoint at this epoch\n",
        "        if val_acc > best_acc:\n",
        "            best_acc = val_acc\n",
        "            torch.save(model.state_dict(), model_path)\n",
        "            print(f'saving model with acc {best_acc/len(val_set):.5f}')\n",
        "\n",
        "    end_time = time.time()\n",
        "    print(f\"total train time: {int(end_time - start_time)}, avg train time per epoch: {int((end_time - start_time)/num_epoch)}\")"
      ]
    },
    {
      "cell_type": "code",
      "execution_count": null,
      "metadata": {
        "id": "EFSxKS-DdAlA",
        "outputId": "66b3a433-bbde-46bc-cb7c-5179348a89a4"
      },
      "outputs": [
        {
          "name": "stderr",
          "output_type": "stream",
          "text": [
            "100%|██████████| 3103/3103 [00:41<00:00, 75.29it/s]\n",
            "100%|██████████| 1032/1032 [00:08<00:00, 125.74it/s]\n"
          ]
        },
        {
          "name": "stdout",
          "output_type": "stream",
          "text": [
            "[001/100] Train Acc: 0.43947 Loss: 1.95562 | Val Acc: 0.54278 loss: 1.51321\n",
            "saving model with acc 0.54278\n"
          ]
        },
        {
          "name": "stderr",
          "output_type": "stream",
          "text": [
            "100%|██████████| 3103/3103 [00:40<00:00, 76.35it/s]\n",
            "100%|██████████| 1032/1032 [00:08<00:00, 122.16it/s]\n"
          ]
        },
        {
          "name": "stdout",
          "output_type": "stream",
          "text": [
            "[002/100] Train Acc: 0.52236 Loss: 1.58755 | Val Acc: 0.58118 loss: 1.36302\n",
            "saving model with acc 0.58118\n"
          ]
        },
        {
          "name": "stderr",
          "output_type": "stream",
          "text": [
            "100%|██████████| 3103/3103 [00:39<00:00, 78.50it/s]\n",
            "100%|██████████| 1032/1032 [00:07<00:00, 135.04it/s]\n"
          ]
        },
        {
          "name": "stdout",
          "output_type": "stream",
          "text": [
            "[003/100] Train Acc: 0.54886 Loss: 1.48513 | Val Acc: 0.60181 loss: 1.29244\n",
            "saving model with acc 0.60181\n"
          ]
        },
        {
          "name": "stderr",
          "output_type": "stream",
          "text": [
            "100%|██████████| 3103/3103 [00:37<00:00, 81.75it/s]\n",
            "100%|██████████| 1032/1032 [00:07<00:00, 134.26it/s]\n"
          ]
        },
        {
          "name": "stdout",
          "output_type": "stream",
          "text": [
            "[004/100] Train Acc: 0.56489 Loss: 1.42512 | Val Acc: 0.61369 loss: 1.24544\n",
            "saving model with acc 0.61369\n"
          ]
        },
        {
          "name": "stderr",
          "output_type": "stream",
          "text": [
            "100%|██████████| 3103/3103 [00:37<00:00, 82.04it/s]\n",
            "100%|██████████| 1032/1032 [00:07<00:00, 134.59it/s]\n"
          ]
        },
        {
          "name": "stdout",
          "output_type": "stream",
          "text": [
            "[005/100] Train Acc: 0.57606 Loss: 1.38416 | Val Acc: 0.62363 loss: 1.21167\n",
            "saving model with acc 0.62363\n"
          ]
        },
        {
          "name": "stderr",
          "output_type": "stream",
          "text": [
            "100%|██████████| 3103/3103 [00:38<00:00, 81.42it/s]\n",
            "100%|██████████| 1032/1032 [00:07<00:00, 135.00it/s]\n"
          ]
        },
        {
          "name": "stdout",
          "output_type": "stream",
          "text": [
            "[006/100] Train Acc: 0.58509 Loss: 1.35029 | Val Acc: 0.63140 loss: 1.18253\n",
            "saving model with acc 0.63140\n"
          ]
        },
        {
          "name": "stderr",
          "output_type": "stream",
          "text": [
            "100%|██████████| 3103/3103 [00:38<00:00, 80.87it/s]\n",
            "100%|██████████| 1032/1032 [00:07<00:00, 138.25it/s]\n"
          ]
        },
        {
          "name": "stdout",
          "output_type": "stream",
          "text": [
            "[007/100] Train Acc: 0.59201 Loss: 1.32586 | Val Acc: 0.63618 loss: 1.16479\n",
            "saving model with acc 0.63618\n"
          ]
        },
        {
          "name": "stderr",
          "output_type": "stream",
          "text": [
            "100%|██████████| 3103/3103 [00:37<00:00, 82.59it/s]\n",
            "100%|██████████| 1032/1032 [00:07<00:00, 136.73it/s]\n"
          ]
        },
        {
          "name": "stdout",
          "output_type": "stream",
          "text": [
            "[008/100] Train Acc: 0.59811 Loss: 1.30399 | Val Acc: 0.64137 loss: 1.14665\n",
            "saving model with acc 0.64137\n"
          ]
        },
        {
          "name": "stderr",
          "output_type": "stream",
          "text": [
            "100%|██████████| 3103/3103 [00:37<00:00, 82.48it/s]\n",
            "100%|██████████| 1032/1032 [00:07<00:00, 139.46it/s]\n"
          ]
        },
        {
          "name": "stdout",
          "output_type": "stream",
          "text": [
            "[009/100] Train Acc: 0.60373 Loss: 1.28480 | Val Acc: 0.64473 loss: 1.13235\n",
            "saving model with acc 0.64473\n"
          ]
        },
        {
          "name": "stderr",
          "output_type": "stream",
          "text": [
            "100%|██████████| 3103/3103 [00:37<00:00, 82.66it/s]\n",
            "100%|██████████| 1032/1032 [00:07<00:00, 138.47it/s]\n"
          ]
        },
        {
          "name": "stdout",
          "output_type": "stream",
          "text": [
            "[010/100] Train Acc: 0.60812 Loss: 1.26879 | Val Acc: 0.64793 loss: 1.12091\n",
            "saving model with acc 0.64793\n"
          ]
        },
        {
          "name": "stderr",
          "output_type": "stream",
          "text": [
            "100%|██████████| 3103/3103 [00:37<00:00, 82.55it/s]\n",
            "100%|██████████| 1032/1032 [00:07<00:00, 137.84it/s]\n"
          ]
        },
        {
          "name": "stdout",
          "output_type": "stream",
          "text": [
            "[011/100] Train Acc: 0.61214 Loss: 1.25444 | Val Acc: 0.65154 loss: 1.10892\n",
            "saving model with acc 0.65154\n"
          ]
        },
        {
          "name": "stderr",
          "output_type": "stream",
          "text": [
            "100%|██████████| 3103/3103 [00:37<00:00, 83.58it/s]\n",
            "100%|██████████| 1032/1032 [00:07<00:00, 138.00it/s]\n"
          ]
        },
        {
          "name": "stdout",
          "output_type": "stream",
          "text": [
            "[012/100] Train Acc: 0.61611 Loss: 1.24119 | Val Acc: 0.65564 loss: 1.09679\n",
            "saving model with acc 0.65564\n"
          ]
        },
        {
          "name": "stderr",
          "output_type": "stream",
          "text": [
            "100%|██████████| 3103/3103 [00:37<00:00, 83.39it/s]\n",
            "100%|██████████| 1032/1032 [00:07<00:00, 135.43it/s]\n"
          ]
        },
        {
          "name": "stdout",
          "output_type": "stream",
          "text": [
            "[013/100] Train Acc: 0.61966 Loss: 1.22823 | Val Acc: 0.65758 loss: 1.08703\n",
            "saving model with acc 0.65758\n"
          ]
        },
        {
          "name": "stderr",
          "output_type": "stream",
          "text": [
            "100%|██████████| 3103/3103 [00:37<00:00, 82.80it/s]\n",
            "100%|██████████| 1032/1032 [00:07<00:00, 139.41it/s]\n"
          ]
        },
        {
          "name": "stdout",
          "output_type": "stream",
          "text": [
            "[014/100] Train Acc: 0.62268 Loss: 1.21730 | Val Acc: 0.65942 loss: 1.08027\n",
            "saving model with acc 0.65942\n"
          ]
        },
        {
          "name": "stderr",
          "output_type": "stream",
          "text": [
            "100%|██████████| 3103/3103 [00:37<00:00, 83.47it/s]\n",
            "100%|██████████| 1032/1032 [00:07<00:00, 137.32it/s]\n"
          ]
        },
        {
          "name": "stdout",
          "output_type": "stream",
          "text": [
            "[015/100] Train Acc: 0.62548 Loss: 1.20842 | Val Acc: 0.66219 loss: 1.07151\n",
            "saving model with acc 0.66219\n"
          ]
        },
        {
          "name": "stderr",
          "output_type": "stream",
          "text": [
            "100%|██████████| 3103/3103 [00:37<00:00, 83.16it/s]\n",
            "100%|██████████| 1032/1032 [00:07<00:00, 139.07it/s]\n"
          ]
        },
        {
          "name": "stdout",
          "output_type": "stream",
          "text": [
            "[016/100] Train Acc: 0.62812 Loss: 1.19717 | Val Acc: 0.66418 loss: 1.06438\n",
            "saving model with acc 0.66418\n"
          ]
        },
        {
          "name": "stderr",
          "output_type": "stream",
          "text": [
            "100%|██████████| 3103/3103 [00:37<00:00, 83.17it/s]\n",
            "100%|██████████| 1032/1032 [00:07<00:00, 138.54it/s]\n"
          ]
        },
        {
          "name": "stdout",
          "output_type": "stream",
          "text": [
            "[017/100] Train Acc: 0.63088 Loss: 1.18902 | Val Acc: 0.66593 loss: 1.05769\n",
            "saving model with acc 0.66593\n"
          ]
        },
        {
          "name": "stderr",
          "output_type": "stream",
          "text": [
            "100%|██████████| 3103/3103 [00:37<00:00, 83.44it/s]\n",
            "100%|██████████| 1032/1032 [00:07<00:00, 137.78it/s]\n"
          ]
        },
        {
          "name": "stdout",
          "output_type": "stream",
          "text": [
            "[018/100] Train Acc: 0.63292 Loss: 1.18055 | Val Acc: 0.66692 loss: 1.05273\n",
            "saving model with acc 0.66692\n"
          ]
        },
        {
          "name": "stderr",
          "output_type": "stream",
          "text": [
            "100%|██████████| 3103/3103 [00:37<00:00, 82.92it/s]\n",
            "100%|██████████| 1032/1032 [00:07<00:00, 138.87it/s]\n"
          ]
        },
        {
          "name": "stdout",
          "output_type": "stream",
          "text": [
            "[019/100] Train Acc: 0.63512 Loss: 1.17285 | Val Acc: 0.66956 loss: 1.04560\n",
            "saving model with acc 0.66956\n"
          ]
        },
        {
          "name": "stderr",
          "output_type": "stream",
          "text": [
            "100%|██████████| 3103/3103 [00:37<00:00, 83.25it/s]\n",
            "100%|██████████| 1032/1032 [00:07<00:00, 136.91it/s]\n"
          ]
        },
        {
          "name": "stdout",
          "output_type": "stream",
          "text": [
            "[020/100] Train Acc: 0.63739 Loss: 1.16447 | Val Acc: 0.67136 loss: 1.03952\n",
            "saving model with acc 0.67136\n"
          ]
        },
        {
          "name": "stderr",
          "output_type": "stream",
          "text": [
            "100%|██████████| 3103/3103 [00:37<00:00, 83.12it/s]\n",
            "100%|██████████| 1032/1032 [00:07<00:00, 138.81it/s]\n"
          ]
        },
        {
          "name": "stdout",
          "output_type": "stream",
          "text": [
            "[021/100] Train Acc: 0.63879 Loss: 1.15868 | Val Acc: 0.67205 loss: 1.03626\n",
            "saving model with acc 0.67205\n"
          ]
        },
        {
          "name": "stderr",
          "output_type": "stream",
          "text": [
            "100%|██████████| 3103/3103 [00:37<00:00, 83.27it/s]\n",
            "100%|██████████| 1032/1032 [00:07<00:00, 138.67it/s]\n"
          ]
        },
        {
          "name": "stdout",
          "output_type": "stream",
          "text": [
            "[022/100] Train Acc: 0.64055 Loss: 1.15252 | Val Acc: 0.67372 loss: 1.03081\n",
            "saving model with acc 0.67372\n"
          ]
        },
        {
          "name": "stderr",
          "output_type": "stream",
          "text": [
            "100%|██████████| 3103/3103 [00:37<00:00, 82.96it/s]\n",
            "100%|██████████| 1032/1032 [00:07<00:00, 137.53it/s]\n"
          ]
        },
        {
          "name": "stdout",
          "output_type": "stream",
          "text": [
            "[023/100] Train Acc: 0.64226 Loss: 1.14626 | Val Acc: 0.67482 loss: 1.02634\n",
            "saving model with acc 0.67482\n"
          ]
        },
        {
          "name": "stderr",
          "output_type": "stream",
          "text": [
            "100%|██████████| 3103/3103 [00:37<00:00, 83.22it/s]\n",
            "100%|██████████| 1032/1032 [00:07<00:00, 137.67it/s]\n"
          ]
        },
        {
          "name": "stdout",
          "output_type": "stream",
          "text": [
            "[024/100] Train Acc: 0.64447 Loss: 1.13977 | Val Acc: 0.67527 loss: 1.02355\n",
            "saving model with acc 0.67527\n"
          ]
        },
        {
          "name": "stderr",
          "output_type": "stream",
          "text": [
            "100%|██████████| 3103/3103 [00:37<00:00, 83.16it/s]\n",
            "100%|██████████| 1032/1032 [00:07<00:00, 137.69it/s]\n"
          ]
        },
        {
          "name": "stdout",
          "output_type": "stream",
          "text": [
            "[025/100] Train Acc: 0.64598 Loss: 1.13536 | Val Acc: 0.67684 loss: 1.01955\n",
            "saving model with acc 0.67684\n"
          ]
        },
        {
          "name": "stderr",
          "output_type": "stream",
          "text": [
            "100%|██████████| 3103/3103 [00:37<00:00, 82.60it/s]\n",
            "100%|██████████| 1032/1032 [00:07<00:00, 137.28it/s]\n"
          ]
        },
        {
          "name": "stdout",
          "output_type": "stream",
          "text": [
            "[026/100] Train Acc: 0.64755 Loss: 1.12961 | Val Acc: 0.67812 loss: 1.01395\n",
            "saving model with acc 0.67812\n"
          ]
        },
        {
          "name": "stderr",
          "output_type": "stream",
          "text": [
            "100%|██████████| 3103/3103 [00:37<00:00, 82.78it/s]\n",
            "100%|██████████| 1032/1032 [00:07<00:00, 137.29it/s]\n"
          ]
        },
        {
          "name": "stdout",
          "output_type": "stream",
          "text": [
            "[027/100] Train Acc: 0.64885 Loss: 1.12388 | Val Acc: 0.67930 loss: 1.01138\n",
            "saving model with acc 0.67930\n"
          ]
        },
        {
          "name": "stderr",
          "output_type": "stream",
          "text": [
            "100%|██████████| 3103/3103 [00:37<00:00, 82.07it/s]\n",
            "100%|██████████| 1032/1032 [00:07<00:00, 137.69it/s]\n"
          ]
        },
        {
          "name": "stdout",
          "output_type": "stream",
          "text": [
            "[028/100] Train Acc: 0.64979 Loss: 1.11942 | Val Acc: 0.68108 loss: 1.00804\n",
            "saving model with acc 0.68108\n"
          ]
        },
        {
          "name": "stderr",
          "output_type": "stream",
          "text": [
            "100%|██████████| 3103/3103 [00:37<00:00, 83.08it/s]\n",
            "100%|██████████| 1032/1032 [00:07<00:00, 138.15it/s]\n"
          ]
        },
        {
          "name": "stdout",
          "output_type": "stream",
          "text": [
            "[029/100] Train Acc: 0.65117 Loss: 1.11512 | Val Acc: 0.68020 loss: 1.00716\n"
          ]
        },
        {
          "name": "stderr",
          "output_type": "stream",
          "text": [
            "100%|██████████| 3103/3103 [00:37<00:00, 82.78it/s]\n",
            "100%|██████████| 1032/1032 [00:07<00:00, 138.58it/s]\n"
          ]
        },
        {
          "name": "stdout",
          "output_type": "stream",
          "text": [
            "[030/100] Train Acc: 0.65233 Loss: 1.11016 | Val Acc: 0.68228 loss: 1.00163\n",
            "saving model with acc 0.68228\n"
          ]
        },
        {
          "name": "stderr",
          "output_type": "stream",
          "text": [
            "100%|██████████| 3103/3103 [00:37<00:00, 82.84it/s]\n",
            "100%|██████████| 1032/1032 [00:07<00:00, 138.09it/s]\n"
          ]
        },
        {
          "name": "stdout",
          "output_type": "stream",
          "text": [
            "[031/100] Train Acc: 0.65386 Loss: 1.10655 | Val Acc: 0.68320 loss: 0.99963\n",
            "saving model with acc 0.68320\n"
          ]
        },
        {
          "name": "stderr",
          "output_type": "stream",
          "text": [
            "100%|██████████| 3103/3103 [00:37<00:00, 82.68it/s]\n",
            "100%|██████████| 1032/1032 [00:07<00:00, 136.42it/s]\n"
          ]
        },
        {
          "name": "stdout",
          "output_type": "stream",
          "text": [
            "[032/100] Train Acc: 0.65546 Loss: 1.10149 | Val Acc: 0.68322 loss: 0.99762\n",
            "saving model with acc 0.68322\n"
          ]
        },
        {
          "name": "stderr",
          "output_type": "stream",
          "text": [
            "100%|██████████| 3103/3103 [00:37<00:00, 83.07it/s]\n",
            "100%|██████████| 1032/1032 [00:07<00:00, 138.82it/s]\n"
          ]
        },
        {
          "name": "stdout",
          "output_type": "stream",
          "text": [
            "[033/100] Train Acc: 0.65610 Loss: 1.09795 | Val Acc: 0.68445 loss: 0.99428\n",
            "saving model with acc 0.68445\n"
          ]
        },
        {
          "name": "stderr",
          "output_type": "stream",
          "text": [
            "100%|██████████| 3103/3103 [00:37<00:00, 82.13it/s]\n",
            "100%|██████████| 1032/1032 [00:07<00:00, 138.24it/s]\n"
          ]
        },
        {
          "name": "stdout",
          "output_type": "stream",
          "text": [
            "[034/100] Train Acc: 0.65735 Loss: 1.09492 | Val Acc: 0.68486 loss: 0.99219\n",
            "saving model with acc 0.68486\n"
          ]
        },
        {
          "name": "stderr",
          "output_type": "stream",
          "text": [
            "100%|██████████| 3103/3103 [00:37<00:00, 82.53it/s]\n",
            "100%|██████████| 1032/1032 [00:07<00:00, 136.53it/s]\n"
          ]
        },
        {
          "name": "stdout",
          "output_type": "stream",
          "text": [
            "[035/100] Train Acc: 0.65802 Loss: 1.09141 | Val Acc: 0.68632 loss: 0.98949\n",
            "saving model with acc 0.68632\n"
          ]
        },
        {
          "name": "stderr",
          "output_type": "stream",
          "text": [
            "100%|██████████| 3103/3103 [00:37<00:00, 82.95it/s]\n",
            "100%|██████████| 1032/1032 [00:07<00:00, 136.56it/s]\n"
          ]
        },
        {
          "name": "stdout",
          "output_type": "stream",
          "text": [
            "[036/100] Train Acc: 0.65900 Loss: 1.08779 | Val Acc: 0.68637 loss: 0.98915\n",
            "saving model with acc 0.68637\n"
          ]
        },
        {
          "name": "stderr",
          "output_type": "stream",
          "text": [
            "100%|██████████| 3103/3103 [00:37<00:00, 82.87it/s]\n",
            "100%|██████████| 1032/1032 [00:07<00:00, 137.41it/s]\n"
          ]
        },
        {
          "name": "stdout",
          "output_type": "stream",
          "text": [
            "[037/100] Train Acc: 0.65992 Loss: 1.08463 | Val Acc: 0.68714 loss: 0.98654\n",
            "saving model with acc 0.68714\n"
          ]
        },
        {
          "name": "stderr",
          "output_type": "stream",
          "text": [
            "100%|██████████| 3103/3103 [00:37<00:00, 82.58it/s]\n",
            "100%|██████████| 1032/1032 [00:07<00:00, 138.08it/s]\n"
          ]
        },
        {
          "name": "stdout",
          "output_type": "stream",
          "text": [
            "[038/100] Train Acc: 0.66086 Loss: 1.08082 | Val Acc: 0.68783 loss: 0.98333\n",
            "saving model with acc 0.68783\n"
          ]
        },
        {
          "name": "stderr",
          "output_type": "stream",
          "text": [
            "100%|██████████| 3103/3103 [00:37<00:00, 82.30it/s]\n",
            "100%|██████████| 1032/1032 [00:07<00:00, 137.67it/s]\n"
          ]
        },
        {
          "name": "stdout",
          "output_type": "stream",
          "text": [
            "[039/100] Train Acc: 0.66195 Loss: 1.07765 | Val Acc: 0.68836 loss: 0.98179\n",
            "saving model with acc 0.68836\n"
          ]
        },
        {
          "name": "stderr",
          "output_type": "stream",
          "text": [
            "100%|██████████| 3103/3103 [00:37<00:00, 82.52it/s]\n",
            "100%|██████████| 1032/1032 [00:07<00:00, 135.84it/s]\n"
          ]
        },
        {
          "name": "stdout",
          "output_type": "stream",
          "text": [
            "[040/100] Train Acc: 0.66228 Loss: 1.07581 | Val Acc: 0.68862 loss: 0.97982\n",
            "saving model with acc 0.68862\n"
          ]
        },
        {
          "name": "stderr",
          "output_type": "stream",
          "text": [
            "100%|██████████| 3103/3103 [00:37<00:00, 82.66it/s]\n",
            "100%|██████████| 1032/1032 [00:07<00:00, 137.64it/s]\n"
          ]
        },
        {
          "name": "stdout",
          "output_type": "stream",
          "text": [
            "[041/100] Train Acc: 0.66357 Loss: 1.07191 | Val Acc: 0.68893 loss: 0.97864\n",
            "saving model with acc 0.68893\n"
          ]
        },
        {
          "name": "stderr",
          "output_type": "stream",
          "text": [
            "100%|██████████| 3103/3103 [00:37<00:00, 82.58it/s]\n",
            "100%|██████████| 1032/1032 [00:07<00:00, 136.32it/s]\n"
          ]
        },
        {
          "name": "stdout",
          "output_type": "stream",
          "text": [
            "[042/100] Train Acc: 0.66440 Loss: 1.06911 | Val Acc: 0.68991 loss: 0.97759\n",
            "saving model with acc 0.68991\n"
          ]
        },
        {
          "name": "stderr",
          "output_type": "stream",
          "text": [
            "100%|██████████| 3103/3103 [00:37<00:00, 82.46it/s]\n",
            "100%|██████████| 1032/1032 [00:07<00:00, 137.24it/s]\n"
          ]
        },
        {
          "name": "stdout",
          "output_type": "stream",
          "text": [
            "[043/100] Train Acc: 0.66518 Loss: 1.06601 | Val Acc: 0.69070 loss: 0.97357\n",
            "saving model with acc 0.69070\n"
          ]
        },
        {
          "name": "stderr",
          "output_type": "stream",
          "text": [
            "100%|██████████| 3103/3103 [00:37<00:00, 82.96it/s]\n",
            "100%|██████████| 1032/1032 [00:07<00:00, 135.84it/s]\n"
          ]
        },
        {
          "name": "stdout",
          "output_type": "stream",
          "text": [
            "[044/100] Train Acc: 0.66591 Loss: 1.06405 | Val Acc: 0.69059 loss: 0.97449\n"
          ]
        },
        {
          "name": "stderr",
          "output_type": "stream",
          "text": [
            "100%|██████████| 3103/3103 [00:37<00:00, 82.46it/s]\n",
            "100%|██████████| 1032/1032 [00:07<00:00, 138.57it/s]\n"
          ]
        },
        {
          "name": "stdout",
          "output_type": "stream",
          "text": [
            "[045/100] Train Acc: 0.66606 Loss: 1.06167 | Val Acc: 0.69153 loss: 0.97086\n",
            "saving model with acc 0.69153\n"
          ]
        },
        {
          "name": "stderr",
          "output_type": "stream",
          "text": [
            "100%|██████████| 3103/3103 [00:37<00:00, 82.56it/s]\n",
            "100%|██████████| 1032/1032 [00:07<00:00, 136.54it/s]\n"
          ]
        },
        {
          "name": "stdout",
          "output_type": "stream",
          "text": [
            "[046/100] Train Acc: 0.66705 Loss: 1.05900 | Val Acc: 0.69199 loss: 0.97013\n",
            "saving model with acc 0.69199\n"
          ]
        },
        {
          "name": "stderr",
          "output_type": "stream",
          "text": [
            "100%|██████████| 3103/3103 [00:37<00:00, 82.78it/s]\n",
            "100%|██████████| 1032/1032 [00:07<00:00, 136.61it/s]\n"
          ]
        },
        {
          "name": "stdout",
          "output_type": "stream",
          "text": [
            "[047/100] Train Acc: 0.66751 Loss: 1.05664 | Val Acc: 0.69221 loss: 0.96850\n",
            "saving model with acc 0.69221\n"
          ]
        },
        {
          "name": "stderr",
          "output_type": "stream",
          "text": [
            "100%|██████████| 3103/3103 [00:37<00:00, 82.78it/s]\n",
            "100%|██████████| 1032/1032 [00:07<00:00, 137.85it/s]\n"
          ]
        },
        {
          "name": "stdout",
          "output_type": "stream",
          "text": [
            "[048/100] Train Acc: 0.66860 Loss: 1.05398 | Val Acc: 0.69292 loss: 0.96681\n",
            "saving model with acc 0.69292\n"
          ]
        },
        {
          "name": "stderr",
          "output_type": "stream",
          "text": [
            "100%|██████████| 3103/3103 [00:37<00:00, 82.57it/s]\n",
            "100%|██████████| 1032/1032 [00:07<00:00, 138.02it/s]\n"
          ]
        },
        {
          "name": "stdout",
          "output_type": "stream",
          "text": [
            "[049/100] Train Acc: 0.66882 Loss: 1.05233 | Val Acc: 0.69292 loss: 0.96548\n"
          ]
        },
        {
          "name": "stderr",
          "output_type": "stream",
          "text": [
            "100%|██████████| 3103/3103 [00:37<00:00, 82.47it/s]\n",
            "100%|██████████| 1032/1032 [00:07<00:00, 138.24it/s]\n"
          ]
        },
        {
          "name": "stdout",
          "output_type": "stream",
          "text": [
            "[050/100] Train Acc: 0.66956 Loss: 1.04931 | Val Acc: 0.69261 loss: 0.96638\n"
          ]
        },
        {
          "name": "stderr",
          "output_type": "stream",
          "text": [
            "100%|██████████| 3103/3103 [00:37<00:00, 82.58it/s]\n",
            "100%|██████████| 1032/1032 [00:07<00:00, 135.30it/s]\n"
          ]
        },
        {
          "name": "stdout",
          "output_type": "stream",
          "text": [
            "[051/100] Train Acc: 0.67010 Loss: 1.04745 | Val Acc: 0.69337 loss: 0.96233\n",
            "saving model with acc 0.69337\n"
          ]
        },
        {
          "name": "stderr",
          "output_type": "stream",
          "text": [
            "100%|██████████| 3103/3103 [00:37<00:00, 82.58it/s]\n",
            "100%|██████████| 1032/1032 [00:07<00:00, 135.81it/s]\n"
          ]
        },
        {
          "name": "stdout",
          "output_type": "stream",
          "text": [
            "[052/100] Train Acc: 0.67069 Loss: 1.04485 | Val Acc: 0.69376 loss: 0.96209\n",
            "saving model with acc 0.69376\n"
          ]
        },
        {
          "name": "stderr",
          "output_type": "stream",
          "text": [
            "100%|██████████| 3103/3103 [00:37<00:00, 82.54it/s]\n",
            "100%|██████████| 1032/1032 [00:07<00:00, 136.60it/s]\n"
          ]
        },
        {
          "name": "stdout",
          "output_type": "stream",
          "text": [
            "[053/100] Train Acc: 0.67166 Loss: 1.04388 | Val Acc: 0.69417 loss: 0.96151\n",
            "saving model with acc 0.69417\n"
          ]
        },
        {
          "name": "stderr",
          "output_type": "stream",
          "text": [
            "100%|██████████| 3103/3103 [00:37<00:00, 82.32it/s]\n",
            "100%|██████████| 1032/1032 [00:07<00:00, 137.36it/s]\n"
          ]
        },
        {
          "name": "stdout",
          "output_type": "stream",
          "text": [
            "[054/100] Train Acc: 0.67178 Loss: 1.04179 | Val Acc: 0.69521 loss: 0.95914\n",
            "saving model with acc 0.69521\n"
          ]
        },
        {
          "name": "stderr",
          "output_type": "stream",
          "text": [
            "100%|██████████| 3103/3103 [00:37<00:00, 82.52it/s]\n",
            "100%|██████████| 1032/1032 [00:07<00:00, 136.62it/s]\n"
          ]
        },
        {
          "name": "stdout",
          "output_type": "stream",
          "text": [
            "[055/100] Train Acc: 0.67257 Loss: 1.03923 | Val Acc: 0.69498 loss: 0.95927\n"
          ]
        },
        {
          "name": "stderr",
          "output_type": "stream",
          "text": [
            "100%|██████████| 3103/3103 [00:37<00:00, 82.61it/s]\n",
            "100%|██████████| 1032/1032 [00:07<00:00, 137.86it/s]\n"
          ]
        },
        {
          "name": "stdout",
          "output_type": "stream",
          "text": [
            "[056/100] Train Acc: 0.67302 Loss: 1.03841 | Val Acc: 0.69538 loss: 0.95750\n",
            "saving model with acc 0.69538\n"
          ]
        },
        {
          "name": "stderr",
          "output_type": "stream",
          "text": [
            "100%|██████████| 3103/3103 [00:37<00:00, 82.59it/s]\n",
            "100%|██████████| 1032/1032 [00:07<00:00, 137.55it/s]\n"
          ]
        },
        {
          "name": "stdout",
          "output_type": "stream",
          "text": [
            "[057/100] Train Acc: 0.67324 Loss: 1.03686 | Val Acc: 0.69597 loss: 0.95640\n",
            "saving model with acc 0.69597\n"
          ]
        },
        {
          "name": "stderr",
          "output_type": "stream",
          "text": [
            "100%|██████████| 3103/3103 [00:37<00:00, 82.34it/s]\n",
            "100%|██████████| 1032/1032 [00:07<00:00, 137.14it/s]\n"
          ]
        },
        {
          "name": "stdout",
          "output_type": "stream",
          "text": [
            "[058/100] Train Acc: 0.67413 Loss: 1.03371 | Val Acc: 0.69562 loss: 0.95636\n"
          ]
        },
        {
          "name": "stderr",
          "output_type": "stream",
          "text": [
            "100%|██████████| 3103/3103 [00:37<00:00, 82.13it/s]\n",
            "100%|██████████| 1032/1032 [00:07<00:00, 137.00it/s]\n"
          ]
        },
        {
          "name": "stdout",
          "output_type": "stream",
          "text": [
            "[059/100] Train Acc: 0.67410 Loss: 1.03310 | Val Acc: 0.69577 loss: 0.95659\n"
          ]
        },
        {
          "name": "stderr",
          "output_type": "stream",
          "text": [
            "100%|██████████| 3103/3103 [00:37<00:00, 82.08it/s]\n",
            "100%|██████████| 1032/1032 [00:07<00:00, 139.11it/s]\n"
          ]
        },
        {
          "name": "stdout",
          "output_type": "stream",
          "text": [
            "[060/100] Train Acc: 0.67503 Loss: 1.03042 | Val Acc: 0.69629 loss: 0.95609\n",
            "saving model with acc 0.69629\n"
          ]
        },
        {
          "name": "stderr",
          "output_type": "stream",
          "text": [
            "100%|██████████| 3103/3103 [00:37<00:00, 82.60it/s]\n",
            "100%|██████████| 1032/1032 [00:07<00:00, 138.97it/s]\n"
          ]
        },
        {
          "name": "stdout",
          "output_type": "stream",
          "text": [
            "[061/100] Train Acc: 0.67557 Loss: 1.02928 | Val Acc: 0.69741 loss: 0.95332\n",
            "saving model with acc 0.69741\n"
          ]
        },
        {
          "name": "stderr",
          "output_type": "stream",
          "text": [
            "100%|██████████| 3103/3103 [00:37<00:00, 82.34it/s]\n",
            "100%|██████████| 1032/1032 [00:07<00:00, 138.30it/s]\n"
          ]
        },
        {
          "name": "stdout",
          "output_type": "stream",
          "text": [
            "[062/100] Train Acc: 0.67613 Loss: 1.02665 | Val Acc: 0.69616 loss: 0.95408\n"
          ]
        },
        {
          "name": "stderr",
          "output_type": "stream",
          "text": [
            "100%|██████████| 3103/3103 [00:37<00:00, 82.37it/s]\n",
            "100%|██████████| 1032/1032 [00:07<00:00, 137.34it/s]\n"
          ]
        },
        {
          "name": "stdout",
          "output_type": "stream",
          "text": [
            "[063/100] Train Acc: 0.67600 Loss: 1.02634 | Val Acc: 0.69742 loss: 0.95226\n",
            "saving model with acc 0.69742\n"
          ]
        },
        {
          "name": "stderr",
          "output_type": "stream",
          "text": [
            "100%|██████████| 3103/3103 [00:37<00:00, 82.12it/s]\n",
            "100%|██████████| 1032/1032 [00:07<00:00, 138.22it/s]\n"
          ]
        },
        {
          "name": "stdout",
          "output_type": "stream",
          "text": [
            "[064/100] Train Acc: 0.67644 Loss: 1.02499 | Val Acc: 0.69741 loss: 0.95139\n"
          ]
        },
        {
          "name": "stderr",
          "output_type": "stream",
          "text": [
            "100%|██████████| 3103/3103 [00:37<00:00, 82.64it/s]\n",
            "100%|██████████| 1032/1032 [00:07<00:00, 137.06it/s]\n"
          ]
        },
        {
          "name": "stdout",
          "output_type": "stream",
          "text": [
            "[065/100] Train Acc: 0.67707 Loss: 1.02338 | Val Acc: 0.69768 loss: 0.94957\n",
            "saving model with acc 0.69768\n"
          ]
        },
        {
          "name": "stderr",
          "output_type": "stream",
          "text": [
            "100%|██████████| 3103/3103 [00:37<00:00, 82.48it/s]\n",
            "100%|██████████| 1032/1032 [00:07<00:00, 135.32it/s]\n"
          ]
        },
        {
          "name": "stdout",
          "output_type": "stream",
          "text": [
            "[066/100] Train Acc: 0.67704 Loss: 1.02136 | Val Acc: 0.69812 loss: 0.94998\n",
            "saving model with acc 0.69812\n"
          ]
        },
        {
          "name": "stderr",
          "output_type": "stream",
          "text": [
            "100%|██████████| 3103/3103 [00:37<00:00, 82.42it/s]\n",
            "100%|██████████| 1032/1032 [00:07<00:00, 136.71it/s]\n"
          ]
        },
        {
          "name": "stdout",
          "output_type": "stream",
          "text": [
            "[067/100] Train Acc: 0.67759 Loss: 1.02142 | Val Acc: 0.69779 loss: 0.95006\n"
          ]
        },
        {
          "name": "stderr",
          "output_type": "stream",
          "text": [
            "100%|██████████| 3103/3103 [00:37<00:00, 82.40it/s]\n",
            "100%|██████████| 1032/1032 [00:07<00:00, 138.07it/s]\n"
          ]
        },
        {
          "name": "stdout",
          "output_type": "stream",
          "text": [
            "[068/100] Train Acc: 0.67838 Loss: 1.01861 | Val Acc: 0.69863 loss: 0.94804\n",
            "saving model with acc 0.69863\n"
          ]
        },
        {
          "name": "stderr",
          "output_type": "stream",
          "text": [
            "100%|██████████| 3103/3103 [00:37<00:00, 82.55it/s]\n",
            "100%|██████████| 1032/1032 [00:07<00:00, 138.02it/s]\n"
          ]
        },
        {
          "name": "stdout",
          "output_type": "stream",
          "text": [
            "[069/100] Train Acc: 0.67861 Loss: 1.01690 | Val Acc: 0.69855 loss: 0.94808\n"
          ]
        },
        {
          "name": "stderr",
          "output_type": "stream",
          "text": [
            "100%|██████████| 3103/3103 [00:37<00:00, 82.38it/s]\n",
            "100%|██████████| 1032/1032 [00:07<00:00, 135.96it/s]\n"
          ]
        },
        {
          "name": "stdout",
          "output_type": "stream",
          "text": [
            "[070/100] Train Acc: 0.67926 Loss: 1.01564 | Val Acc: 0.69905 loss: 0.94618\n",
            "saving model with acc 0.69905\n"
          ]
        },
        {
          "name": "stderr",
          "output_type": "stream",
          "text": [
            "100%|██████████| 3103/3103 [00:37<00:00, 82.32it/s]\n",
            "100%|██████████| 1032/1032 [00:07<00:00, 137.24it/s]\n"
          ]
        },
        {
          "name": "stdout",
          "output_type": "stream",
          "text": [
            "[071/100] Train Acc: 0.67947 Loss: 1.01414 | Val Acc: 0.69941 loss: 0.94532\n",
            "saving model with acc 0.69941\n"
          ]
        },
        {
          "name": "stderr",
          "output_type": "stream",
          "text": [
            "100%|██████████| 3103/3103 [00:37<00:00, 82.88it/s]\n",
            "100%|██████████| 1032/1032 [00:07<00:00, 137.80it/s]\n"
          ]
        },
        {
          "name": "stdout",
          "output_type": "stream",
          "text": [
            "[072/100] Train Acc: 0.67981 Loss: 1.01343 | Val Acc: 0.69915 loss: 0.94698\n"
          ]
        },
        {
          "name": "stderr",
          "output_type": "stream",
          "text": [
            "100%|██████████| 3103/3103 [00:37<00:00, 82.65it/s]\n",
            "100%|██████████| 1032/1032 [00:07<00:00, 137.20it/s]\n"
          ]
        },
        {
          "name": "stdout",
          "output_type": "stream",
          "text": [
            "[073/100] Train Acc: 0.67977 Loss: 1.01239 | Val Acc: 0.69982 loss: 0.94337\n",
            "saving model with acc 0.69982\n"
          ]
        },
        {
          "name": "stderr",
          "output_type": "stream",
          "text": [
            "100%|██████████| 3103/3103 [00:37<00:00, 81.78it/s]\n",
            "100%|██████████| 1032/1032 [00:07<00:00, 137.22it/s]\n"
          ]
        },
        {
          "name": "stdout",
          "output_type": "stream",
          "text": [
            "[074/100] Train Acc: 0.68009 Loss: 1.01170 | Val Acc: 0.69971 loss: 0.94430\n"
          ]
        },
        {
          "name": "stderr",
          "output_type": "stream",
          "text": [
            "100%|██████████| 3103/3103 [00:37<00:00, 82.31it/s]\n",
            "100%|██████████| 1032/1032 [00:07<00:00, 138.23it/s]\n"
          ]
        },
        {
          "name": "stdout",
          "output_type": "stream",
          "text": [
            "[075/100] Train Acc: 0.68084 Loss: 1.00890 | Val Acc: 0.70010 loss: 0.94270\n",
            "saving model with acc 0.70010\n"
          ]
        },
        {
          "name": "stderr",
          "output_type": "stream",
          "text": [
            "100%|██████████| 3103/3103 [00:37<00:00, 81.96it/s]\n",
            "100%|██████████| 1032/1032 [00:07<00:00, 138.01it/s]\n"
          ]
        },
        {
          "name": "stdout",
          "output_type": "stream",
          "text": [
            "[076/100] Train Acc: 0.68077 Loss: 1.00808 | Val Acc: 0.69983 loss: 0.94358\n"
          ]
        },
        {
          "name": "stderr",
          "output_type": "stream",
          "text": [
            "100%|██████████| 3103/3103 [00:37<00:00, 82.57it/s]\n",
            "100%|██████████| 1032/1032 [00:07<00:00, 136.67it/s]\n"
          ]
        },
        {
          "name": "stdout",
          "output_type": "stream",
          "text": [
            "[077/100] Train Acc: 0.68087 Loss: 1.00874 | Val Acc: 0.70013 loss: 0.94305\n",
            "saving model with acc 0.70013\n"
          ]
        },
        {
          "name": "stderr",
          "output_type": "stream",
          "text": [
            "100%|██████████| 3103/3103 [00:37<00:00, 82.46it/s]\n",
            "100%|██████████| 1032/1032 [00:07<00:00, 137.49it/s]\n"
          ]
        },
        {
          "name": "stdout",
          "output_type": "stream",
          "text": [
            "[078/100] Train Acc: 0.68146 Loss: 1.00626 | Val Acc: 0.69975 loss: 0.94246\n"
          ]
        },
        {
          "name": "stderr",
          "output_type": "stream",
          "text": [
            "100%|██████████| 3103/3103 [00:37<00:00, 82.15it/s]\n",
            "100%|██████████| 1032/1032 [00:07<00:00, 135.72it/s]\n"
          ]
        },
        {
          "name": "stdout",
          "output_type": "stream",
          "text": [
            "[079/100] Train Acc: 0.68231 Loss: 1.00503 | Val Acc: 0.70107 loss: 0.94052\n",
            "saving model with acc 0.70107\n"
          ]
        },
        {
          "name": "stderr",
          "output_type": "stream",
          "text": [
            "100%|██████████| 3103/3103 [00:37<00:00, 82.83it/s]\n",
            "100%|██████████| 1032/1032 [00:07<00:00, 136.21it/s]\n"
          ]
        },
        {
          "name": "stdout",
          "output_type": "stream",
          "text": [
            "[080/100] Train Acc: 0.68195 Loss: 1.00402 | Val Acc: 0.70081 loss: 0.94081\n"
          ]
        },
        {
          "name": "stderr",
          "output_type": "stream",
          "text": [
            "100%|██████████| 3103/3103 [00:38<00:00, 81.35it/s]\n",
            "100%|██████████| 1032/1032 [00:07<00:00, 137.16it/s]\n"
          ]
        },
        {
          "name": "stdout",
          "output_type": "stream",
          "text": [
            "[081/100] Train Acc: 0.68248 Loss: 1.00255 | Val Acc: 0.70062 loss: 0.94059\n"
          ]
        },
        {
          "name": "stderr",
          "output_type": "stream",
          "text": [
            "100%|██████████| 3103/3103 [00:37<00:00, 82.09it/s]\n",
            "100%|██████████| 1032/1032 [00:07<00:00, 137.76it/s]\n"
          ]
        },
        {
          "name": "stdout",
          "output_type": "stream",
          "text": [
            "[082/100] Train Acc: 0.68287 Loss: 1.00204 | Val Acc: 0.70055 loss: 0.94080\n"
          ]
        },
        {
          "name": "stderr",
          "output_type": "stream",
          "text": [
            "100%|██████████| 3103/3103 [00:37<00:00, 82.30it/s]\n",
            "100%|██████████| 1032/1032 [00:07<00:00, 138.07it/s]\n"
          ]
        },
        {
          "name": "stdout",
          "output_type": "stream",
          "text": [
            "[083/100] Train Acc: 0.68305 Loss: 1.00107 | Val Acc: 0.70148 loss: 0.93937\n",
            "saving model with acc 0.70148\n"
          ]
        },
        {
          "name": "stderr",
          "output_type": "stream",
          "text": [
            "100%|██████████| 3103/3103 [00:37<00:00, 82.71it/s]\n",
            "100%|██████████| 1032/1032 [00:07<00:00, 138.09it/s]\n"
          ]
        },
        {
          "name": "stdout",
          "output_type": "stream",
          "text": [
            "[084/100] Train Acc: 0.68343 Loss: 0.99987 | Val Acc: 0.70182 loss: 0.93939\n",
            "saving model with acc 0.70182\n"
          ]
        },
        {
          "name": "stderr",
          "output_type": "stream",
          "text": [
            "100%|██████████| 3103/3103 [00:37<00:00, 82.49it/s]\n",
            "100%|██████████| 1032/1032 [00:07<00:00, 137.53it/s]\n"
          ]
        },
        {
          "name": "stdout",
          "output_type": "stream",
          "text": [
            "[085/100] Train Acc: 0.68407 Loss: 0.99833 | Val Acc: 0.70208 loss: 0.93680\n",
            "saving model with acc 0.70208\n"
          ]
        },
        {
          "name": "stderr",
          "output_type": "stream",
          "text": [
            "100%|██████████| 3103/3103 [00:38<00:00, 81.64it/s]\n",
            "100%|██████████| 1032/1032 [00:07<00:00, 138.12it/s]\n"
          ]
        },
        {
          "name": "stdout",
          "output_type": "stream",
          "text": [
            "[086/100] Train Acc: 0.68369 Loss: 0.99799 | Val Acc: 0.70156 loss: 0.93754\n"
          ]
        },
        {
          "name": "stderr",
          "output_type": "stream",
          "text": [
            "100%|██████████| 3103/3103 [13:56<00:00,  3.71it/s]\n",
            "100%|██████████| 1032/1032 [00:08<00:00, 127.91it/s]\n"
          ]
        },
        {
          "name": "stdout",
          "output_type": "stream",
          "text": [
            "[087/100] Train Acc: 0.68427 Loss: 0.99722 | Val Acc: 0.70184 loss: 0.93833\n"
          ]
        },
        {
          "name": "stderr",
          "output_type": "stream",
          "text": [
            "100%|██████████| 3103/3103 [00:38<00:00, 80.02it/s]\n",
            "100%|██████████| 1032/1032 [00:07<00:00, 137.56it/s]\n"
          ]
        },
        {
          "name": "stdout",
          "output_type": "stream",
          "text": [
            "[088/100] Train Acc: 0.68462 Loss: 0.99587 | Val Acc: 0.70226 loss: 0.93655\n",
            "saving model with acc 0.70226\n"
          ]
        },
        {
          "name": "stderr",
          "output_type": "stream",
          "text": [
            "100%|██████████| 3103/3103 [00:37<00:00, 82.47it/s]\n",
            "100%|██████████| 1032/1032 [00:07<00:00, 136.60it/s]\n"
          ]
        },
        {
          "name": "stdout",
          "output_type": "stream",
          "text": [
            "[089/100] Train Acc: 0.68450 Loss: 0.99541 | Val Acc: 0.70245 loss: 0.93608\n",
            "saving model with acc 0.70245\n"
          ]
        },
        {
          "name": "stderr",
          "output_type": "stream",
          "text": [
            "100%|██████████| 3103/3103 [00:36<00:00, 83.99it/s]\n",
            "100%|██████████| 1032/1032 [00:07<00:00, 139.77it/s]\n"
          ]
        },
        {
          "name": "stdout",
          "output_type": "stream",
          "text": [
            "[090/100] Train Acc: 0.68477 Loss: 0.99493 | Val Acc: 0.70182 loss: 0.93634\n"
          ]
        },
        {
          "name": "stderr",
          "output_type": "stream",
          "text": [
            "100%|██████████| 3103/3103 [00:38<00:00, 81.23it/s]\n",
            "100%|██████████| 1032/1032 [00:08<00:00, 127.74it/s]\n"
          ]
        },
        {
          "name": "stdout",
          "output_type": "stream",
          "text": [
            "[091/100] Train Acc: 0.68549 Loss: 0.99320 | Val Acc: 0.70266 loss: 0.93459\n",
            "saving model with acc 0.70266\n"
          ]
        },
        {
          "name": "stderr",
          "output_type": "stream",
          "text": [
            "100%|██████████| 3103/3103 [00:37<00:00, 82.97it/s]\n",
            "100%|██████████| 1032/1032 [00:08<00:00, 127.28it/s]\n"
          ]
        },
        {
          "name": "stdout",
          "output_type": "stream",
          "text": [
            "[092/100] Train Acc: 0.68507 Loss: 0.99339 | Val Acc: 0.70269 loss: 0.93425\n",
            "saving model with acc 0.70269\n"
          ]
        },
        {
          "name": "stderr",
          "output_type": "stream",
          "text": [
            "100%|██████████| 3103/3103 [00:42<00:00, 72.54it/s]\n",
            "100%|██████████| 1032/1032 [00:08<00:00, 125.63it/s]\n"
          ]
        },
        {
          "name": "stdout",
          "output_type": "stream",
          "text": [
            "[093/100] Train Acc: 0.68567 Loss: 0.99200 | Val Acc: 0.70277 loss: 0.93340\n",
            "saving model with acc 0.70277\n"
          ]
        },
        {
          "name": "stderr",
          "output_type": "stream",
          "text": [
            "100%|██████████| 3103/3103 [00:42<00:00, 73.02it/s]\n",
            "100%|██████████| 1032/1032 [00:07<00:00, 132.03it/s]\n"
          ]
        },
        {
          "name": "stdout",
          "output_type": "stream",
          "text": [
            "[094/100] Train Acc: 0.68573 Loss: 0.99143 | Val Acc: 0.70349 loss: 0.93267\n",
            "saving model with acc 0.70349\n"
          ]
        },
        {
          "name": "stderr",
          "output_type": "stream",
          "text": [
            "100%|██████████| 3103/3103 [00:38<00:00, 80.69it/s]\n",
            "100%|██████████| 1032/1032 [00:07<00:00, 130.49it/s]\n"
          ]
        },
        {
          "name": "stdout",
          "output_type": "stream",
          "text": [
            "[095/100] Train Acc: 0.68591 Loss: 0.99015 | Val Acc: 0.70290 loss: 0.93413\n"
          ]
        },
        {
          "name": "stderr",
          "output_type": "stream",
          "text": [
            "100%|██████████| 3103/3103 [00:38<00:00, 79.77it/s]\n",
            "100%|██████████| 1032/1032 [00:07<00:00, 129.29it/s]\n"
          ]
        },
        {
          "name": "stdout",
          "output_type": "stream",
          "text": [
            "[096/100] Train Acc: 0.68624 Loss: 0.98948 | Val Acc: 0.70325 loss: 0.93362\n"
          ]
        },
        {
          "name": "stderr",
          "output_type": "stream",
          "text": [
            "100%|██████████| 3103/3103 [00:40<00:00, 76.73it/s]\n",
            "100%|██████████| 1032/1032 [00:08<00:00, 128.40it/s]\n"
          ]
        },
        {
          "name": "stdout",
          "output_type": "stream",
          "text": [
            "[097/100] Train Acc: 0.68656 Loss: 0.98805 | Val Acc: 0.70336 loss: 0.93191\n"
          ]
        },
        {
          "name": "stderr",
          "output_type": "stream",
          "text": [
            "100%|██████████| 3103/3103 [00:40<00:00, 76.54it/s]\n",
            "100%|██████████| 1032/1032 [00:07<00:00, 129.12it/s]\n"
          ]
        },
        {
          "name": "stdout",
          "output_type": "stream",
          "text": [
            "[098/100] Train Acc: 0.68655 Loss: 0.98713 | Val Acc: 0.70332 loss: 0.93216\n"
          ]
        },
        {
          "name": "stderr",
          "output_type": "stream",
          "text": [
            "100%|██████████| 3103/3103 [00:39<00:00, 78.30it/s]\n",
            "100%|██████████| 1032/1032 [00:07<00:00, 140.89it/s]\n"
          ]
        },
        {
          "name": "stdout",
          "output_type": "stream",
          "text": [
            "[099/100] Train Acc: 0.68732 Loss: 0.98724 | Val Acc: 0.70344 loss: 0.93135\n"
          ]
        },
        {
          "name": "stderr",
          "output_type": "stream",
          "text": [
            "100%|██████████| 3103/3103 [00:37<00:00, 83.00it/s]\n",
            "100%|██████████| 1032/1032 [00:07<00:00, 144.59it/s]"
          ]
        },
        {
          "name": "stdout",
          "output_type": "stream",
          "text": [
            "[100/100] Train Acc: 0.68668 Loss: 0.98603 | Val Acc: 0.70360 loss: 0.93181\n",
            "saving model with acc 0.70360\n",
            "total train time: 5345, avg train time per epoch: 53\n"
          ]
        },
        {
          "name": "stderr",
          "output_type": "stream",
          "text": [
            "\n"
          ]
        }
      ],
      "source": [
        "# FC 训练100epoch结果\n",
        "train_loop()"
      ]
    },
    {
      "cell_type": "code",
      "execution_count": null,
      "metadata": {
        "id": "GRFqxJtfdAlB"
      },
      "outputs": [],
      "source": [
        "del train_set, val_set\n",
        "del train_loader, val_loader\n",
        "gc.collect()"
      ]
    },
    {
      "cell_type": "markdown",
      "metadata": {
        "id": "tRqgNpm6dAlB"
      },
      "source": [
        "**RNN 网络training**"
      ]
    },
    {
      "cell_type": "code",
      "execution_count": null,
      "metadata": {
        "id": "wgpFbi5LdAlB"
      },
      "outputs": [],
      "source": [
        "import time\n",
        "from torch.utils.tensorboard import SummaryWriter\n",
        "def train_loop_rnn():\n",
        "    criterion = nn.CrossEntropyLoss()\n",
        "    optimizer = torch.optim.Adam(model.parameters(), lr=learning_rate)\n",
        "\n",
        "    start_time = time.time()\n",
        "\n",
        "    best_acc = 0.0\n",
        "\n",
        "    writer = SummaryWriter(\"./run\")\n",
        "\n",
        "\n",
        "    for epoch in range(num_epoch):\n",
        "        train_acc = 0.0\n",
        "        train_loss = 0.0\n",
        "        val_acc = 0.0\n",
        "        val_loss = 0.0\n",
        "\n",
        "        # training\n",
        "        model.train() # set the model to training mode\n",
        "        for i, batch in enumerate(tqdm(train_loader)):\n",
        "            features, labels = batch\n",
        "            features = features.to(device)\n",
        "\n",
        "            labels = labels.view(-1).to(device)\n",
        "\n",
        "            optimizer.zero_grad()\n",
        "            outputs = model(features)\n",
        "\n",
        "            loss = criterion(outputs, labels)\n",
        "            loss.backward()\n",
        "            optimizer.step()\n",
        "\n",
        "            _, train_pred = torch.max(outputs, 1) # get the index of the class with the highest probability\n",
        "            train_acc += (train_pred.detach() == labels.detach()).sum().item()\n",
        "            train_loss += loss.item()\n",
        "\n",
        "        # validation\n",
        "        model.eval() # set the model to evaluation mode\n",
        "        with torch.no_grad():\n",
        "            for i, batch in enumerate(tqdm(val_loader)):\n",
        "                features, labels = batch\n",
        "                features = features.to(device)\n",
        "                labels = labels.view(-1).to(device)\n",
        "                outputs = model(features)\n",
        "\n",
        "                loss = criterion(outputs, labels)\n",
        "\n",
        "                _, val_pred = torch.max(outputs, 1)\n",
        "                val_acc += (val_pred.cpu() == labels.cpu()).sum().item() # get the index of the class with the highest probability\n",
        "                val_loss += loss.item()\n",
        "\n",
        "        writer.add_scalar('acc/train', train_acc/len(train_set))\n",
        "        writer.add_scalar('acc/validation', val_acc/len(val_set))\n",
        "\n",
        "        print(f'[{epoch+1:03d}/{num_epoch:03d}] Train Acc: {train_acc/len(train_set):3.5f} Loss: {train_loss/len(train_loader):3.5f} | Val Acc: {val_acc/len(val_set):3.5f} loss: {val_loss/len(val_loader):3.5f}')\n",
        "\n",
        "        # if the model improves, save a checkpoint at this epoch\n",
        "        if val_acc > best_acc:\n",
        "            best_acc = val_acc\n",
        "            torch.save(model.state_dict(), model_path)\n",
        "            print(f'saving model with acc {best_acc/len(val_set):.5f}')\n",
        "\n",
        "    end_time = time.time()\n",
        "    print(f\"total train time: {int(end_time - start_time)}, avg train time per epoch: {int((end_time - start_time)/num_epoch)}\")\n"
      ]
    },
    {
      "cell_type": "code",
      "execution_count": null,
      "metadata": {
        "id": "YK-WZrvTdAlB"
      },
      "outputs": [],
      "source": [
        "model = ClassifierRNN(input_dim=input_dim, hidden_dim=hidden_dim, hidden_layer=hidden_layers).to(device)"
      ]
    },
    {
      "cell_type": "code",
      "execution_count": null,
      "metadata": {
        "id": "pzt4GlNidAlB",
        "outputId": "4015f309-63a9-4a5f-82f0-85bce742d03f"
      },
      "outputs": [
        {
          "name": "stderr",
          "output_type": "stream",
          "text": [
            "100%|██████████| 3103/3103 [00:38<00:00, 80.45it/s]\n",
            "100%|██████████| 1032/1032 [00:10<00:00, 100.65it/s]\n"
          ]
        },
        {
          "name": "stdout",
          "output_type": "stream",
          "text": [
            "[001/100] Train Acc: 4.28235 Loss: 2.26936 | Val Acc: 4.66612 loss: 2.08540\n",
            "saving model with acc 4.66612\n"
          ]
        },
        {
          "name": "stderr",
          "output_type": "stream",
          "text": [
            "100%|██████████| 3103/3103 [00:36<00:00, 84.09it/s]\n",
            "100%|██████████| 1032/1032 [00:10<00:00, 101.84it/s]\n"
          ]
        },
        {
          "name": "stdout",
          "output_type": "stream",
          "text": [
            "[002/100] Train Acc: 4.88844 Loss: 1.99971 | Val Acc: 4.99775 loss: 1.95491\n",
            "saving model with acc 4.99775\n"
          ]
        },
        {
          "name": "stderr",
          "output_type": "stream",
          "text": [
            "100%|██████████| 3103/3103 [00:36<00:00, 85.65it/s]\n",
            "100%|██████████| 1032/1032 [00:10<00:00, 100.73it/s]\n"
          ]
        },
        {
          "name": "stdout",
          "output_type": "stream",
          "text": [
            "[003/100] Train Acc: 5.12804 Loss: 1.90457 | Val Acc: 5.17689 loss: 1.88456\n",
            "saving model with acc 5.17689\n"
          ]
        },
        {
          "name": "stderr",
          "output_type": "stream",
          "text": [
            "100%|██████████| 3103/3103 [00:36<00:00, 84.75it/s]\n",
            "100%|██████████| 1032/1032 [00:09<00:00, 106.40it/s]\n"
          ]
        },
        {
          "name": "stdout",
          "output_type": "stream",
          "text": [
            "[004/100] Train Acc: 5.27596 Loss: 1.84714 | Val Acc: 5.28740 loss: 1.83930\n",
            "saving model with acc 5.28740\n"
          ]
        },
        {
          "name": "stderr",
          "output_type": "stream",
          "text": [
            "100%|██████████| 3103/3103 [00:36<00:00, 85.72it/s]\n",
            "100%|██████████| 1032/1032 [00:09<00:00, 105.13it/s]\n"
          ]
        },
        {
          "name": "stdout",
          "output_type": "stream",
          "text": [
            "[005/100] Train Acc: 5.37903 Loss: 1.80663 | Val Acc: 5.38141 loss: 1.80496\n",
            "saving model with acc 5.38141\n"
          ]
        },
        {
          "name": "stderr",
          "output_type": "stream",
          "text": [
            "100%|██████████| 3103/3103 [00:35<00:00, 87.63it/s]\n",
            "100%|██████████| 1032/1032 [00:09<00:00, 107.36it/s]\n"
          ]
        },
        {
          "name": "stdout",
          "output_type": "stream",
          "text": [
            "[006/100] Train Acc: 5.45850 Loss: 1.77567 | Val Acc: 5.44709 loss: 1.77988\n",
            "saving model with acc 5.44709\n"
          ]
        },
        {
          "name": "stderr",
          "output_type": "stream",
          "text": [
            "100%|██████████| 3103/3103 [00:35<00:00, 86.66it/s]\n",
            "100%|██████████| 1032/1032 [00:09<00:00, 106.81it/s]\n"
          ]
        },
        {
          "name": "stdout",
          "output_type": "stream",
          "text": [
            "[007/100] Train Acc: 5.52198 Loss: 1.75113 | Val Acc: 5.49929 loss: 1.75865\n",
            "saving model with acc 5.49929\n"
          ]
        },
        {
          "name": "stderr",
          "output_type": "stream",
          "text": [
            "100%|██████████| 3103/3103 [00:35<00:00, 87.52it/s]\n",
            "100%|██████████| 1032/1032 [00:09<00:00, 104.95it/s]\n"
          ]
        },
        {
          "name": "stdout",
          "output_type": "stream",
          "text": [
            "[008/100] Train Acc: 5.57504 Loss: 1.73087 | Val Acc: 5.54949 loss: 1.74124\n",
            "saving model with acc 5.54949\n"
          ]
        },
        {
          "name": "stderr",
          "output_type": "stream",
          "text": [
            "100%|██████████| 3103/3103 [00:35<00:00, 87.47it/s]\n",
            "100%|██████████| 1032/1032 [00:09<00:00, 105.88it/s]\n"
          ]
        },
        {
          "name": "stdout",
          "output_type": "stream",
          "text": [
            "[009/100] Train Acc: 5.62197 Loss: 1.71375 | Val Acc: 5.58814 loss: 1.72477\n",
            "saving model with acc 5.58814\n"
          ]
        },
        {
          "name": "stderr",
          "output_type": "stream",
          "text": [
            "100%|██████████| 3103/3103 [00:35<00:00, 87.53it/s]\n",
            "100%|██████████| 1032/1032 [00:09<00:00, 106.22it/s]\n"
          ]
        },
        {
          "name": "stdout",
          "output_type": "stream",
          "text": [
            "[010/100] Train Acc: 5.66281 Loss: 1.69880 | Val Acc: 5.61934 loss: 1.71311\n",
            "saving model with acc 5.61934\n"
          ]
        },
        {
          "name": "stderr",
          "output_type": "stream",
          "text": [
            "100%|██████████| 3103/3103 [00:35<00:00, 87.36it/s]\n",
            "100%|██████████| 1032/1032 [00:09<00:00, 106.46it/s]\n"
          ]
        },
        {
          "name": "stdout",
          "output_type": "stream",
          "text": [
            "[011/100] Train Acc: 5.69842 Loss: 1.68582 | Val Acc: 5.66065 loss: 1.70043\n",
            "saving model with acc 5.66065\n"
          ]
        },
        {
          "name": "stderr",
          "output_type": "stream",
          "text": [
            "100%|██████████| 3103/3103 [00:35<00:00, 87.56it/s]\n",
            "100%|██████████| 1032/1032 [00:09<00:00, 105.85it/s]\n"
          ]
        },
        {
          "name": "stdout",
          "output_type": "stream",
          "text": [
            "[012/100] Train Acc: 5.72942 Loss: 1.67420 | Val Acc: 5.68015 loss: 1.69280\n",
            "saving model with acc 5.68015\n"
          ]
        },
        {
          "name": "stderr",
          "output_type": "stream",
          "text": [
            "100%|██████████| 3103/3103 [00:35<00:00, 87.84it/s]\n",
            "100%|██████████| 1032/1032 [00:09<00:00, 105.52it/s]\n"
          ]
        },
        {
          "name": "stdout",
          "output_type": "stream",
          "text": [
            "[013/100] Train Acc: 5.75813 Loss: 1.66383 | Val Acc: 5.70505 loss: 1.68295\n",
            "saving model with acc 5.70505\n"
          ]
        },
        {
          "name": "stderr",
          "output_type": "stream",
          "text": [
            "100%|██████████| 3103/3103 [00:35<00:00, 87.51it/s]\n",
            "100%|██████████| 1032/1032 [00:09<00:00, 106.97it/s]\n"
          ]
        },
        {
          "name": "stdout",
          "output_type": "stream",
          "text": [
            "[014/100] Train Acc: 5.78444 Loss: 1.65439 | Val Acc: 5.71686 loss: 1.67764\n",
            "saving model with acc 5.71686\n"
          ]
        },
        {
          "name": "stderr",
          "output_type": "stream",
          "text": [
            "100%|██████████| 3103/3103 [00:35<00:00, 87.44it/s]\n",
            "100%|██████████| 1032/1032 [00:09<00:00, 105.27it/s]\n"
          ]
        },
        {
          "name": "stdout",
          "output_type": "stream",
          "text": [
            "[015/100] Train Acc: 5.80858 Loss: 1.64587 | Val Acc: 5.74472 loss: 1.66998\n",
            "saving model with acc 5.74472\n"
          ]
        },
        {
          "name": "stderr",
          "output_type": "stream",
          "text": [
            "100%|██████████| 3103/3103 [00:35<00:00, 87.54it/s]\n",
            "100%|██████████| 1032/1032 [00:10<00:00, 101.83it/s]\n"
          ]
        },
        {
          "name": "stdout",
          "output_type": "stream",
          "text": [
            "[016/100] Train Acc: 5.82907 Loss: 1.63808 | Val Acc: 5.76305 loss: 1.66135\n",
            "saving model with acc 5.76305\n"
          ]
        },
        {
          "name": "stderr",
          "output_type": "stream",
          "text": [
            "100%|██████████| 3103/3103 [00:35<00:00, 87.39it/s]\n",
            "100%|██████████| 1032/1032 [00:09<00:00, 106.56it/s]\n"
          ]
        },
        {
          "name": "stdout",
          "output_type": "stream",
          "text": [
            "[017/100] Train Acc: 5.84906 Loss: 1.63097 | Val Acc: 5.78291 loss: 1.65351\n",
            "saving model with acc 5.78291\n"
          ]
        },
        {
          "name": "stderr",
          "output_type": "stream",
          "text": [
            "100%|██████████| 3103/3103 [00:35<00:00, 87.50it/s]\n",
            "100%|██████████| 1032/1032 [00:09<00:00, 106.10it/s]\n"
          ]
        },
        {
          "name": "stdout",
          "output_type": "stream",
          "text": [
            "[018/100] Train Acc: 5.86674 Loss: 1.62445 | Val Acc: 5.79482 loss: 1.64829\n",
            "saving model with acc 5.79482\n"
          ]
        },
        {
          "name": "stderr",
          "output_type": "stream",
          "text": [
            "100%|██████████| 3103/3103 [00:35<00:00, 87.93it/s]\n",
            "100%|██████████| 1032/1032 [00:09<00:00, 106.59it/s]\n"
          ]
        },
        {
          "name": "stdout",
          "output_type": "stream",
          "text": [
            "[019/100] Train Acc: 5.88276 Loss: 1.61863 | Val Acc: 5.81320 loss: 1.64416\n",
            "saving model with acc 5.81320\n"
          ]
        },
        {
          "name": "stderr",
          "output_type": "stream",
          "text": [
            "100%|██████████| 3103/3103 [00:35<00:00, 87.63it/s]\n",
            "100%|██████████| 1032/1032 [00:09<00:00, 106.03it/s]\n"
          ]
        },
        {
          "name": "stdout",
          "output_type": "stream",
          "text": [
            "[020/100] Train Acc: 5.89778 Loss: 1.61293 | Val Acc: 5.82578 loss: 1.63804\n",
            "saving model with acc 5.82578\n"
          ]
        },
        {
          "name": "stderr",
          "output_type": "stream",
          "text": [
            "100%|██████████| 3103/3103 [00:35<00:00, 88.05it/s]\n",
            "100%|██████████| 1032/1032 [00:09<00:00, 106.46it/s]\n"
          ]
        },
        {
          "name": "stdout",
          "output_type": "stream",
          "text": [
            "[021/100] Train Acc: 5.91197 Loss: 1.60756 | Val Acc: 5.82703 loss: 1.63652\n",
            "saving model with acc 5.82703\n"
          ]
        },
        {
          "name": "stderr",
          "output_type": "stream",
          "text": [
            "100%|██████████| 3103/3103 [00:35<00:00, 88.19it/s]\n",
            "100%|██████████| 1032/1032 [00:09<00:00, 106.71it/s]\n"
          ]
        },
        {
          "name": "stdout",
          "output_type": "stream",
          "text": [
            "[022/100] Train Acc: 5.92581 Loss: 1.60275 | Val Acc: 5.83853 loss: 1.63197\n",
            "saving model with acc 5.83853\n"
          ]
        },
        {
          "name": "stderr",
          "output_type": "stream",
          "text": [
            "100%|██████████| 3103/3103 [00:35<00:00, 87.94it/s]\n",
            "100%|██████████| 1032/1032 [00:09<00:00, 106.72it/s]\n"
          ]
        },
        {
          "name": "stdout",
          "output_type": "stream",
          "text": [
            "[023/100] Train Acc: 5.93766 Loss: 1.59820 | Val Acc: 5.86063 loss: 1.62457\n",
            "saving model with acc 5.86063\n"
          ]
        },
        {
          "name": "stderr",
          "output_type": "stream",
          "text": [
            "100%|██████████| 3103/3103 [00:35<00:00, 88.14it/s]\n",
            "100%|██████████| 1032/1032 [00:09<00:00, 106.54it/s]\n"
          ]
        },
        {
          "name": "stdout",
          "output_type": "stream",
          "text": [
            "[024/100] Train Acc: 5.94986 Loss: 1.59389 | Val Acc: 5.86991 loss: 1.62299\n",
            "saving model with acc 5.86991\n"
          ]
        },
        {
          "name": "stderr",
          "output_type": "stream",
          "text": [
            "100%|██████████| 3103/3103 [00:35<00:00, 87.48it/s]\n",
            "100%|██████████| 1032/1032 [00:09<00:00, 106.92it/s]\n"
          ]
        },
        {
          "name": "stdout",
          "output_type": "stream",
          "text": [
            "[025/100] Train Acc: 5.96079 Loss: 1.58966 | Val Acc: 5.87565 loss: 1.62003\n",
            "saving model with acc 5.87565\n"
          ]
        },
        {
          "name": "stderr",
          "output_type": "stream",
          "text": [
            "100%|██████████| 3103/3103 [00:35<00:00, 87.43it/s]\n",
            "100%|██████████| 1032/1032 [00:09<00:00, 105.50it/s]\n"
          ]
        },
        {
          "name": "stdout",
          "output_type": "stream",
          "text": [
            "[026/100] Train Acc: 5.97159 Loss: 1.58579 | Val Acc: 5.88074 loss: 1.61674\n",
            "saving model with acc 5.88074\n"
          ]
        },
        {
          "name": "stderr",
          "output_type": "stream",
          "text": [
            "100%|██████████| 3103/3103 [00:35<00:00, 87.80it/s]\n",
            "100%|██████████| 1032/1032 [00:09<00:00, 106.03it/s]\n"
          ]
        },
        {
          "name": "stdout",
          "output_type": "stream",
          "text": [
            "[027/100] Train Acc: 5.98147 Loss: 1.58203 | Val Acc: 5.89457 loss: 1.61287\n",
            "saving model with acc 5.89457\n"
          ]
        },
        {
          "name": "stderr",
          "output_type": "stream",
          "text": [
            "100%|██████████| 3103/3103 [00:35<00:00, 87.78it/s]\n",
            "100%|██████████| 1032/1032 [00:09<00:00, 105.83it/s]\n"
          ]
        },
        {
          "name": "stdout",
          "output_type": "stream",
          "text": [
            "[028/100] Train Acc: 5.99243 Loss: 1.57841 | Val Acc: 5.90874 loss: 1.60757\n",
            "saving model with acc 5.90874\n"
          ]
        },
        {
          "name": "stderr",
          "output_type": "stream",
          "text": [
            "100%|██████████| 3103/3103 [00:35<00:00, 88.00it/s]\n",
            "100%|██████████| 1032/1032 [00:09<00:00, 107.90it/s]\n"
          ]
        },
        {
          "name": "stdout",
          "output_type": "stream",
          "text": [
            "[029/100] Train Acc: 6.00071 Loss: 1.57531 | Val Acc: 5.90291 loss: 1.60803\n"
          ]
        },
        {
          "name": "stderr",
          "output_type": "stream",
          "text": [
            "100%|██████████| 3103/3103 [00:35<00:00, 87.84it/s]\n",
            "100%|██████████| 1032/1032 [00:09<00:00, 106.76it/s]\n"
          ]
        },
        {
          "name": "stdout",
          "output_type": "stream",
          "text": [
            "[030/100] Train Acc: 6.00976 Loss: 1.57189 | Val Acc: 5.90890 loss: 1.60657\n",
            "saving model with acc 5.90890\n"
          ]
        },
        {
          "name": "stderr",
          "output_type": "stream",
          "text": [
            "100%|██████████| 3103/3103 [00:35<00:00, 87.61it/s]\n",
            "100%|██████████| 1032/1032 [00:09<00:00, 106.63it/s]\n"
          ]
        },
        {
          "name": "stdout",
          "output_type": "stream",
          "text": [
            "[031/100] Train Acc: 6.01847 Loss: 1.56885 | Val Acc: 5.91259 loss: 1.60456\n",
            "saving model with acc 5.91259\n"
          ]
        },
        {
          "name": "stderr",
          "output_type": "stream",
          "text": [
            "100%|██████████| 3103/3103 [00:35<00:00, 87.59it/s]\n",
            "100%|██████████| 1032/1032 [00:09<00:00, 107.05it/s]\n"
          ]
        },
        {
          "name": "stdout",
          "output_type": "stream",
          "text": [
            "[032/100] Train Acc: 6.02556 Loss: 1.56568 | Val Acc: 5.93571 loss: 1.59740\n",
            "saving model with acc 5.93571\n"
          ]
        },
        {
          "name": "stderr",
          "output_type": "stream",
          "text": [
            "100%|██████████| 3103/3103 [00:35<00:00, 87.75it/s]\n",
            "100%|██████████| 1032/1032 [00:09<00:00, 106.61it/s]\n"
          ]
        },
        {
          "name": "stdout",
          "output_type": "stream",
          "text": [
            "[033/100] Train Acc: 6.03362 Loss: 1.56287 | Val Acc: 5.93977 loss: 1.59580\n",
            "saving model with acc 5.93977\n"
          ]
        },
        {
          "name": "stderr",
          "output_type": "stream",
          "text": [
            "100%|██████████| 3103/3103 [00:35<00:00, 87.80it/s]\n",
            "100%|██████████| 1032/1032 [00:09<00:00, 107.45it/s]\n"
          ]
        },
        {
          "name": "stdout",
          "output_type": "stream",
          "text": [
            "[034/100] Train Acc: 6.04061 Loss: 1.56013 | Val Acc: 5.93856 loss: 1.59453\n"
          ]
        },
        {
          "name": "stderr",
          "output_type": "stream",
          "text": [
            "100%|██████████| 3103/3103 [00:35<00:00, 87.75it/s]\n",
            "100%|██████████| 1032/1032 [00:09<00:00, 106.01it/s]\n"
          ]
        },
        {
          "name": "stdout",
          "output_type": "stream",
          "text": [
            "[035/100] Train Acc: 6.04827 Loss: 1.55750 | Val Acc: 5.94603 loss: 1.59575\n",
            "saving model with acc 5.94603\n"
          ]
        },
        {
          "name": "stderr",
          "output_type": "stream",
          "text": [
            "100%|██████████| 3103/3103 [00:35<00:00, 87.78it/s]\n",
            "100%|██████████| 1032/1032 [00:09<00:00, 106.13it/s]\n"
          ]
        },
        {
          "name": "stdout",
          "output_type": "stream",
          "text": [
            "[036/100] Train Acc: 6.05535 Loss: 1.55497 | Val Acc: 5.96020 loss: 1.58937\n",
            "saving model with acc 5.96020\n"
          ]
        },
        {
          "name": "stderr",
          "output_type": "stream",
          "text": [
            "100%|██████████| 3103/3103 [00:35<00:00, 87.88it/s]\n",
            "100%|██████████| 1032/1032 [00:09<00:00, 106.99it/s]\n"
          ]
        },
        {
          "name": "stdout",
          "output_type": "stream",
          "text": [
            "[037/100] Train Acc: 6.06298 Loss: 1.55250 | Val Acc: 5.95406 loss: 1.59113\n"
          ]
        },
        {
          "name": "stderr",
          "output_type": "stream",
          "text": [
            "100%|██████████| 3103/3103 [00:35<00:00, 87.55it/s]\n",
            "100%|██████████| 1032/1032 [00:09<00:00, 107.17it/s]\n"
          ]
        },
        {
          "name": "stdout",
          "output_type": "stream",
          "text": [
            "[038/100] Train Acc: 6.06868 Loss: 1.55001 | Val Acc: 5.97126 loss: 1.58383\n",
            "saving model with acc 5.97126\n"
          ]
        },
        {
          "name": "stderr",
          "output_type": "stream",
          "text": [
            "100%|██████████| 3103/3103 [00:35<00:00, 87.67it/s]\n",
            "100%|██████████| 1032/1032 [00:09<00:00, 106.11it/s]\n"
          ]
        },
        {
          "name": "stdout",
          "output_type": "stream",
          "text": [
            "[039/100] Train Acc: 6.07446 Loss: 1.54794 | Val Acc: 5.97072 loss: 1.58375\n"
          ]
        },
        {
          "name": "stderr",
          "output_type": "stream",
          "text": [
            "100%|██████████| 3103/3103 [00:35<00:00, 87.84it/s]\n",
            "100%|██████████| 1032/1032 [00:09<00:00, 107.10it/s]\n"
          ]
        },
        {
          "name": "stdout",
          "output_type": "stream",
          "text": [
            "[040/100] Train Acc: 6.08162 Loss: 1.54538 | Val Acc: 5.97451 loss: 1.58530\n",
            "saving model with acc 5.97451\n"
          ]
        },
        {
          "name": "stderr",
          "output_type": "stream",
          "text": [
            "100%|██████████| 3103/3103 [00:35<00:00, 87.60it/s]\n",
            "100%|██████████| 1032/1032 [00:09<00:00, 106.44it/s]\n"
          ]
        },
        {
          "name": "stdout",
          "output_type": "stream",
          "text": [
            "[041/100] Train Acc: 6.08806 Loss: 1.54344 | Val Acc: 5.98394 loss: 1.57912\n",
            "saving model with acc 5.98394\n"
          ]
        },
        {
          "name": "stderr",
          "output_type": "stream",
          "text": [
            "100%|██████████| 3103/3103 [00:35<00:00, 87.75it/s]\n",
            "100%|██████████| 1032/1032 [00:09<00:00, 106.96it/s]\n"
          ]
        },
        {
          "name": "stdout",
          "output_type": "stream",
          "text": [
            "[042/100] Train Acc: 6.09291 Loss: 1.54128 | Val Acc: 5.98290 loss: 1.57962\n"
          ]
        },
        {
          "name": "stderr",
          "output_type": "stream",
          "text": [
            "100%|██████████| 3103/3103 [00:35<00:00, 87.74it/s]\n",
            "100%|██████████| 1032/1032 [00:09<00:00, 106.52it/s]\n"
          ]
        },
        {
          "name": "stdout",
          "output_type": "stream",
          "text": [
            "[043/100] Train Acc: 6.09883 Loss: 1.53924 | Val Acc: 5.98867 loss: 1.58000\n",
            "saving model with acc 5.98867\n"
          ]
        },
        {
          "name": "stderr",
          "output_type": "stream",
          "text": [
            "100%|██████████| 3103/3103 [00:35<00:00, 87.79it/s]\n",
            "100%|██████████| 1032/1032 [00:10<00:00, 102.17it/s]\n"
          ]
        },
        {
          "name": "stdout",
          "output_type": "stream",
          "text": [
            "[044/100] Train Acc: 6.10398 Loss: 1.53738 | Val Acc: 6.00542 loss: 1.57351\n",
            "saving model with acc 6.00542\n"
          ]
        },
        {
          "name": "stderr",
          "output_type": "stream",
          "text": [
            "100%|██████████| 3103/3103 [00:37<00:00, 82.75it/s]\n",
            "100%|██████████| 1032/1032 [00:10<00:00, 98.43it/s] \n"
          ]
        },
        {
          "name": "stdout",
          "output_type": "stream",
          "text": [
            "[045/100] Train Acc: 6.11131 Loss: 1.53506 | Val Acc: 5.97991 loss: 1.57872\n"
          ]
        },
        {
          "name": "stderr",
          "output_type": "stream",
          "text": [
            "100%|██████████| 3103/3103 [00:37<00:00, 83.14it/s]\n",
            "100%|██████████| 1032/1032 [00:10<00:00, 100.57it/s]\n"
          ]
        },
        {
          "name": "stdout",
          "output_type": "stream",
          "text": [
            "[046/100] Train Acc: 6.11494 Loss: 1.53360 | Val Acc: 6.00624 loss: 1.57261\n",
            "saving model with acc 6.00624\n"
          ]
        },
        {
          "name": "stderr",
          "output_type": "stream",
          "text": [
            "100%|██████████| 3103/3103 [00:36<00:00, 83.98it/s]\n",
            "100%|██████████| 1032/1032 [00:10<00:00, 101.68it/s]\n"
          ]
        },
        {
          "name": "stdout",
          "output_type": "stream",
          "text": [
            "[047/100] Train Acc: 6.12027 Loss: 1.53166 | Val Acc: 5.99715 loss: 1.57490\n"
          ]
        },
        {
          "name": "stderr",
          "output_type": "stream",
          "text": [
            "100%|██████████| 3103/3103 [00:38<00:00, 80.71it/s]\n",
            "100%|██████████| 1032/1032 [00:12<00:00, 85.97it/s]\n"
          ]
        },
        {
          "name": "stdout",
          "output_type": "stream",
          "text": [
            "[048/100] Train Acc: 6.12558 Loss: 1.52980 | Val Acc: 6.01287 loss: 1.56904\n",
            "saving model with acc 6.01287\n"
          ]
        },
        {
          "name": "stderr",
          "output_type": "stream",
          "text": [
            "100%|██████████| 3103/3103 [00:40<00:00, 76.19it/s]\n",
            "100%|██████████| 1032/1032 [00:10<00:00, 96.41it/s] \n"
          ]
        },
        {
          "name": "stdout",
          "output_type": "stream",
          "text": [
            "[049/100] Train Acc: 6.12961 Loss: 1.52824 | Val Acc: 6.02299 loss: 1.56705\n",
            "saving model with acc 6.02299\n"
          ]
        },
        {
          "name": "stderr",
          "output_type": "stream",
          "text": [
            "100%|██████████| 3103/3103 [00:38<00:00, 80.85it/s]\n",
            "100%|██████████| 1032/1032 [00:10<00:00, 97.63it/s] \n"
          ]
        },
        {
          "name": "stdout",
          "output_type": "stream",
          "text": [
            "[050/100] Train Acc: 6.13468 Loss: 1.52644 | Val Acc: 6.02355 loss: 1.56577\n",
            "saving model with acc 6.02355\n"
          ]
        },
        {
          "name": "stderr",
          "output_type": "stream",
          "text": [
            "100%|██████████| 3103/3103 [00:38<00:00, 80.82it/s]\n",
            "100%|██████████| 1032/1032 [00:10<00:00, 96.25it/s] \n"
          ]
        },
        {
          "name": "stdout",
          "output_type": "stream",
          "text": [
            "[051/100] Train Acc: 6.13919 Loss: 1.52493 | Val Acc: 6.02666 loss: 1.56411\n",
            "saving model with acc 6.02666\n"
          ]
        },
        {
          "name": "stderr",
          "output_type": "stream",
          "text": [
            "100%|██████████| 3103/3103 [00:41<00:00, 74.44it/s]\n",
            "100%|██████████| 1032/1032 [00:11<00:00, 90.48it/s]\n"
          ]
        },
        {
          "name": "stdout",
          "output_type": "stream",
          "text": [
            "[052/100] Train Acc: 6.14450 Loss: 1.52304 | Val Acc: 6.03342 loss: 1.56325\n",
            "saving model with acc 6.03342\n"
          ]
        },
        {
          "name": "stderr",
          "output_type": "stream",
          "text": [
            "100%|██████████| 3103/3103 [00:43<00:00, 70.96it/s]\n",
            "100%|██████████| 1032/1032 [00:11<00:00, 91.34it/s]\n"
          ]
        },
        {
          "name": "stdout",
          "output_type": "stream",
          "text": [
            "[053/100] Train Acc: 6.14838 Loss: 1.52168 | Val Acc: 6.03142 loss: 1.56326\n"
          ]
        },
        {
          "name": "stderr",
          "output_type": "stream",
          "text": [
            "100%|██████████| 3103/3103 [00:42<00:00, 72.41it/s]\n",
            "100%|██████████| 1032/1032 [00:11<00:00, 90.88it/s]\n"
          ]
        },
        {
          "name": "stdout",
          "output_type": "stream",
          "text": [
            "[054/100] Train Acc: 6.15227 Loss: 1.52025 | Val Acc: 6.03971 loss: 1.56053\n",
            "saving model with acc 6.03971\n"
          ]
        },
        {
          "name": "stderr",
          "output_type": "stream",
          "text": [
            "100%|██████████| 3103/3103 [00:42<00:00, 72.44it/s]\n",
            "100%|██████████| 1032/1032 [00:11<00:00, 90.17it/s]\n"
          ]
        },
        {
          "name": "stdout",
          "output_type": "stream",
          "text": [
            "[055/100] Train Acc: 6.15649 Loss: 1.51885 | Val Acc: 6.04462 loss: 1.55854\n",
            "saving model with acc 6.04462\n"
          ]
        },
        {
          "name": "stderr",
          "output_type": "stream",
          "text": [
            "100%|██████████| 3103/3103 [00:41<00:00, 74.19it/s]\n",
            "100%|██████████| 1032/1032 [00:11<00:00, 92.51it/s]\n"
          ]
        },
        {
          "name": "stdout",
          "output_type": "stream",
          "text": [
            "[056/100] Train Acc: 6.16128 Loss: 1.51731 | Val Acc: 6.04715 loss: 1.55831\n",
            "saving model with acc 6.04715\n"
          ]
        },
        {
          "name": "stderr",
          "output_type": "stream",
          "text": [
            "100%|██████████| 3103/3103 [00:42<00:00, 73.08it/s]\n",
            "100%|██████████| 1032/1032 [00:11<00:00, 91.11it/s]\n"
          ]
        },
        {
          "name": "stdout",
          "output_type": "stream",
          "text": [
            "[057/100] Train Acc: 6.16364 Loss: 1.51604 | Val Acc: 6.03971 loss: 1.55961\n"
          ]
        },
        {
          "name": "stderr",
          "output_type": "stream",
          "text": [
            "100%|██████████| 3103/3103 [00:44<00:00, 69.05it/s]\n",
            "100%|██████████| 1032/1032 [00:11<00:00, 90.00it/s]\n"
          ]
        },
        {
          "name": "stdout",
          "output_type": "stream",
          "text": [
            "[058/100] Train Acc: 6.16856 Loss: 1.51443 | Val Acc: 6.05313 loss: 1.55577\n",
            "saving model with acc 6.05313\n"
          ]
        },
        {
          "name": "stderr",
          "output_type": "stream",
          "text": [
            "100%|██████████| 3103/3103 [00:41<00:00, 74.94it/s]\n",
            "100%|██████████| 1032/1032 [00:11<00:00, 90.93it/s]\n"
          ]
        },
        {
          "name": "stdout",
          "output_type": "stream",
          "text": [
            "[059/100] Train Acc: 6.17229 Loss: 1.51325 | Val Acc: 6.05464 loss: 1.55577\n",
            "saving model with acc 6.05464\n"
          ]
        },
        {
          "name": "stderr",
          "output_type": "stream",
          "text": [
            "100%|██████████| 3103/3103 [00:42<00:00, 73.74it/s]\n",
            "100%|██████████| 1032/1032 [00:11<00:00, 92.52it/s]\n"
          ]
        },
        {
          "name": "stdout",
          "output_type": "stream",
          "text": [
            "[060/100] Train Acc: 6.17638 Loss: 1.51188 | Val Acc: 6.05068 loss: 1.55545\n"
          ]
        },
        {
          "name": "stderr",
          "output_type": "stream",
          "text": [
            "100%|██████████| 3103/3103 [00:41<00:00, 75.11it/s]\n",
            "100%|██████████| 1032/1032 [00:11<00:00, 90.60it/s]\n"
          ]
        },
        {
          "name": "stdout",
          "output_type": "stream",
          "text": [
            "[061/100] Train Acc: 6.17834 Loss: 1.51059 | Val Acc: 6.05693 loss: 1.55290\n",
            "saving model with acc 6.05693\n"
          ]
        },
        {
          "name": "stderr",
          "output_type": "stream",
          "text": [
            "100%|██████████| 3103/3103 [00:41<00:00, 75.26it/s]\n",
            "100%|██████████| 1032/1032 [00:11<00:00, 92.93it/s]\n"
          ]
        },
        {
          "name": "stdout",
          "output_type": "stream",
          "text": [
            "[062/100] Train Acc: 6.18283 Loss: 1.50960 | Val Acc: 6.05960 loss: 1.55420\n",
            "saving model with acc 6.05960\n"
          ]
        },
        {
          "name": "stderr",
          "output_type": "stream",
          "text": [
            "100%|██████████| 3103/3103 [00:42<00:00, 73.06it/s]\n",
            "100%|██████████| 1032/1032 [00:10<00:00, 101.68it/s]\n"
          ]
        },
        {
          "name": "stdout",
          "output_type": "stream",
          "text": [
            "[063/100] Train Acc: 6.18813 Loss: 1.50822 | Val Acc: 6.06232 loss: 1.55272\n",
            "saving model with acc 6.06232\n"
          ]
        },
        {
          "name": "stderr",
          "output_type": "stream",
          "text": [
            "100%|██████████| 3103/3103 [00:37<00:00, 83.33it/s]\n",
            "100%|██████████| 1032/1032 [00:10<00:00, 102.11it/s]\n"
          ]
        },
        {
          "name": "stdout",
          "output_type": "stream",
          "text": [
            "[064/100] Train Acc: 6.18949 Loss: 1.50710 | Val Acc: 6.06816 loss: 1.55043\n",
            "saving model with acc 6.06816\n"
          ]
        },
        {
          "name": "stderr",
          "output_type": "stream",
          "text": [
            "100%|██████████| 3103/3103 [00:36<00:00, 84.11it/s]\n",
            "100%|██████████| 1032/1032 [00:10<00:00, 101.58it/s]\n"
          ]
        },
        {
          "name": "stdout",
          "output_type": "stream",
          "text": [
            "[065/100] Train Acc: 6.19270 Loss: 1.50585 | Val Acc: 6.06425 loss: 1.55127\n"
          ]
        },
        {
          "name": "stderr",
          "output_type": "stream",
          "text": [
            "100%|██████████| 3103/3103 [00:36<00:00, 84.15it/s]\n",
            "100%|██████████| 1032/1032 [00:10<00:00, 101.73it/s]\n"
          ]
        },
        {
          "name": "stdout",
          "output_type": "stream",
          "text": [
            "[066/100] Train Acc: 6.19540 Loss: 1.50473 | Val Acc: 6.07320 loss: 1.54772\n",
            "saving model with acc 6.07320\n"
          ]
        },
        {
          "name": "stderr",
          "output_type": "stream",
          "text": [
            "100%|██████████| 3103/3103 [00:37<00:00, 83.69it/s]\n",
            "100%|██████████| 1032/1032 [00:10<00:00, 102.01it/s]\n"
          ]
        },
        {
          "name": "stdout",
          "output_type": "stream",
          "text": [
            "[067/100] Train Acc: 6.19946 Loss: 1.50361 | Val Acc: 6.06121 loss: 1.55199\n"
          ]
        },
        {
          "name": "stderr",
          "output_type": "stream",
          "text": [
            "100%|██████████| 3103/3103 [00:37<00:00, 83.77it/s]\n",
            "100%|██████████| 1032/1032 [00:10<00:00, 97.14it/s]\n"
          ]
        },
        {
          "name": "stdout",
          "output_type": "stream",
          "text": [
            "[068/100] Train Acc: 6.20223 Loss: 1.50248 | Val Acc: 6.07690 loss: 1.54793\n",
            "saving model with acc 6.07690\n"
          ]
        },
        {
          "name": "stderr",
          "output_type": "stream",
          "text": [
            "100%|██████████| 3103/3103 [00:37<00:00, 82.46it/s]\n",
            "100%|██████████| 1032/1032 [00:10<00:00, 100.15it/s]\n"
          ]
        },
        {
          "name": "stdout",
          "output_type": "stream",
          "text": [
            "[069/100] Train Acc: 6.20553 Loss: 1.50152 | Val Acc: 6.07653 loss: 1.54732\n"
          ]
        },
        {
          "name": "stderr",
          "output_type": "stream",
          "text": [
            "100%|██████████| 3103/3103 [00:37<00:00, 83.13it/s]\n",
            "100%|██████████| 1032/1032 [00:10<00:00, 102.56it/s]\n"
          ]
        },
        {
          "name": "stdout",
          "output_type": "stream",
          "text": [
            "[070/100] Train Acc: 6.20762 Loss: 1.50049 | Val Acc: 6.08358 loss: 1.54568\n",
            "saving model with acc 6.08358\n"
          ]
        },
        {
          "name": "stderr",
          "output_type": "stream",
          "text": [
            "100%|██████████| 3103/3103 [00:36<00:00, 84.31it/s]\n",
            "100%|██████████| 1032/1032 [00:10<00:00, 101.81it/s]\n"
          ]
        },
        {
          "name": "stdout",
          "output_type": "stream",
          "text": [
            "[071/100] Train Acc: 6.21093 Loss: 1.49939 | Val Acc: 6.08383 loss: 1.54463\n",
            "saving model with acc 6.08383\n"
          ]
        },
        {
          "name": "stderr",
          "output_type": "stream",
          "text": [
            "100%|██████████| 3103/3103 [00:36<00:00, 84.11it/s]\n",
            "100%|██████████| 1032/1032 [00:10<00:00, 101.93it/s]\n"
          ]
        },
        {
          "name": "stdout",
          "output_type": "stream",
          "text": [
            "[072/100] Train Acc: 6.21450 Loss: 1.49818 | Val Acc: 6.09284 loss: 1.54228\n",
            "saving model with acc 6.09284\n"
          ]
        },
        {
          "name": "stderr",
          "output_type": "stream",
          "text": [
            "100%|██████████| 3103/3103 [00:37<00:00, 83.86it/s]\n",
            "100%|██████████| 1032/1032 [00:10<00:00, 102.02it/s]\n"
          ]
        },
        {
          "name": "stdout",
          "output_type": "stream",
          "text": [
            "[073/100] Train Acc: 6.21635 Loss: 1.49734 | Val Acc: 6.09348 loss: 1.54186\n",
            "saving model with acc 6.09348\n"
          ]
        },
        {
          "name": "stderr",
          "output_type": "stream",
          "text": [
            "100%|██████████| 3103/3103 [00:36<00:00, 84.26it/s]\n",
            "100%|██████████| 1032/1032 [00:10<00:00, 101.16it/s]\n"
          ]
        },
        {
          "name": "stdout",
          "output_type": "stream",
          "text": [
            "[074/100] Train Acc: 6.21962 Loss: 1.49637 | Val Acc: 6.08816 loss: 1.54322\n"
          ]
        },
        {
          "name": "stderr",
          "output_type": "stream",
          "text": [
            "100%|██████████| 3103/3103 [00:36<00:00, 84.02it/s]\n",
            "100%|██████████| 1032/1032 [00:10<00:00, 101.83it/s]\n"
          ]
        },
        {
          "name": "stdout",
          "output_type": "stream",
          "text": [
            "[075/100] Train Acc: 6.22153 Loss: 1.49570 | Val Acc: 6.08683 loss: 1.54336\n"
          ]
        },
        {
          "name": "stderr",
          "output_type": "stream",
          "text": [
            "100%|██████████| 3103/3103 [00:37<00:00, 82.10it/s]\n",
            "100%|██████████| 1032/1032 [00:10<00:00, 95.84it/s] \n"
          ]
        },
        {
          "name": "stdout",
          "output_type": "stream",
          "text": [
            "[076/100] Train Acc: 6.22502 Loss: 1.49448 | Val Acc: 6.08571 loss: 1.54318\n"
          ]
        },
        {
          "name": "stderr",
          "output_type": "stream",
          "text": [
            "100%|██████████| 3103/3103 [00:40<00:00, 77.40it/s]\n",
            "100%|██████████| 1032/1032 [00:11<00:00, 92.14it/s]\n"
          ]
        },
        {
          "name": "stdout",
          "output_type": "stream",
          "text": [
            "[077/100] Train Acc: 6.22734 Loss: 1.49358 | Val Acc: 6.09075 loss: 1.54197\n"
          ]
        },
        {
          "name": "stderr",
          "output_type": "stream",
          "text": [
            "100%|██████████| 3103/3103 [00:40<00:00, 76.24it/s]\n",
            "100%|██████████| 1032/1032 [00:10<00:00, 96.99it/s] \n"
          ]
        },
        {
          "name": "stdout",
          "output_type": "stream",
          "text": [
            "[078/100] Train Acc: 6.22921 Loss: 1.49276 | Val Acc: 6.09064 loss: 1.54162\n"
          ]
        },
        {
          "name": "stderr",
          "output_type": "stream",
          "text": [
            "100%|██████████| 3103/3103 [00:38<00:00, 79.67it/s]\n",
            "100%|██████████| 1032/1032 [00:11<00:00, 93.59it/s]\n"
          ]
        },
        {
          "name": "stdout",
          "output_type": "stream",
          "text": [
            "[079/100] Train Acc: 6.23200 Loss: 1.49188 | Val Acc: 6.07806 loss: 1.54452\n"
          ]
        },
        {
          "name": "stderr",
          "output_type": "stream",
          "text": [
            "100%|██████████| 3103/3103 [00:40<00:00, 77.15it/s]\n",
            "100%|██████████| 1032/1032 [00:11<00:00, 92.77it/s] \n"
          ]
        },
        {
          "name": "stdout",
          "output_type": "stream",
          "text": [
            "[080/100] Train Acc: 6.23445 Loss: 1.49099 | Val Acc: 6.09450 loss: 1.54092\n",
            "saving model with acc 6.09450\n"
          ]
        },
        {
          "name": "stderr",
          "output_type": "stream",
          "text": [
            "100%|██████████| 3103/3103 [00:38<00:00, 80.55it/s]\n",
            "100%|██████████| 1032/1032 [00:10<00:00, 97.95it/s] \n"
          ]
        },
        {
          "name": "stdout",
          "output_type": "stream",
          "text": [
            "[081/100] Train Acc: 6.23808 Loss: 1.49007 | Val Acc: 6.10001 loss: 1.53920\n",
            "saving model with acc 6.10001\n"
          ]
        },
        {
          "name": "stderr",
          "output_type": "stream",
          "text": [
            "100%|██████████| 3103/3103 [00:38<00:00, 81.19it/s]\n",
            "100%|██████████| 1032/1032 [00:10<00:00, 97.73it/s] \n"
          ]
        },
        {
          "name": "stdout",
          "output_type": "stream",
          "text": [
            "[082/100] Train Acc: 6.23866 Loss: 1.48930 | Val Acc: 6.11033 loss: 1.53727\n",
            "saving model with acc 6.11033\n"
          ]
        },
        {
          "name": "stderr",
          "output_type": "stream",
          "text": [
            "100%|██████████| 3103/3103 [00:38<00:00, 80.78it/s]\n",
            "100%|██████████| 1032/1032 [00:10<00:00, 95.30it/s] \n"
          ]
        },
        {
          "name": "stdout",
          "output_type": "stream",
          "text": [
            "[083/100] Train Acc: 6.24106 Loss: 1.48853 | Val Acc: 6.09206 loss: 1.54171\n"
          ]
        },
        {
          "name": "stderr",
          "output_type": "stream",
          "text": [
            "100%|██████████| 3103/3103 [00:38<00:00, 80.11it/s]\n",
            "100%|██████████| 1032/1032 [00:10<00:00, 95.86it/s]\n"
          ]
        },
        {
          "name": "stdout",
          "output_type": "stream",
          "text": [
            "[084/100] Train Acc: 6.24322 Loss: 1.48770 | Val Acc: 6.09388 loss: 1.54127\n"
          ]
        },
        {
          "name": "stderr",
          "output_type": "stream",
          "text": [
            "100%|██████████| 3103/3103 [00:39<00:00, 79.23it/s]\n",
            "100%|██████████| 1032/1032 [00:10<00:00, 97.92it/s]\n"
          ]
        },
        {
          "name": "stdout",
          "output_type": "stream",
          "text": [
            "[085/100] Train Acc: 6.24549 Loss: 1.48699 | Val Acc: 6.10420 loss: 1.53566\n"
          ]
        },
        {
          "name": "stderr",
          "output_type": "stream",
          "text": [
            "100%|██████████| 3103/3103 [00:38<00:00, 80.94it/s]\n",
            "100%|██████████| 1032/1032 [00:10<00:00, 99.22it/s] \n"
          ]
        },
        {
          "name": "stdout",
          "output_type": "stream",
          "text": [
            "[086/100] Train Acc: 6.24801 Loss: 1.48607 | Val Acc: 6.10405 loss: 1.53892\n"
          ]
        },
        {
          "name": "stderr",
          "output_type": "stream",
          "text": [
            "100%|██████████| 3103/3103 [00:38<00:00, 81.12it/s]\n",
            "100%|██████████| 1032/1032 [00:10<00:00, 98.84it/s] \n"
          ]
        },
        {
          "name": "stdout",
          "output_type": "stream",
          "text": [
            "[087/100] Train Acc: 6.25158 Loss: 1.48533 | Val Acc: 6.11924 loss: 1.53331\n",
            "saving model with acc 6.11924\n"
          ]
        },
        {
          "name": "stderr",
          "output_type": "stream",
          "text": [
            "100%|██████████| 3103/3103 [00:38<00:00, 81.21it/s]\n",
            "100%|██████████| 1032/1032 [00:10<00:00, 98.99it/s] \n"
          ]
        },
        {
          "name": "stdout",
          "output_type": "stream",
          "text": [
            "[088/100] Train Acc: 6.25267 Loss: 1.48462 | Val Acc: 6.10451 loss: 1.53836\n"
          ]
        },
        {
          "name": "stderr",
          "output_type": "stream",
          "text": [
            "100%|██████████| 3103/3103 [00:38<00:00, 81.37it/s]\n",
            "100%|██████████| 1032/1032 [00:10<00:00, 97.96it/s]\n"
          ]
        },
        {
          "name": "stdout",
          "output_type": "stream",
          "text": [
            "[089/100] Train Acc: 6.25556 Loss: 1.48356 | Val Acc: 6.11806 loss: 1.53377\n"
          ]
        },
        {
          "name": "stderr",
          "output_type": "stream",
          "text": [
            "100%|██████████| 3103/3103 [00:38<00:00, 80.02it/s]\n",
            "100%|██████████| 1032/1032 [00:10<00:00, 98.31it/s] \n"
          ]
        },
        {
          "name": "stdout",
          "output_type": "stream",
          "text": [
            "[090/100] Train Acc: 6.25769 Loss: 1.48310 | Val Acc: 6.11921 loss: 1.53328\n"
          ]
        },
        {
          "name": "stderr",
          "output_type": "stream",
          "text": [
            "100%|██████████| 3103/3103 [00:38<00:00, 80.35it/s]\n",
            "100%|██████████| 1032/1032 [00:10<00:00, 97.56it/s] \n"
          ]
        },
        {
          "name": "stdout",
          "output_type": "stream",
          "text": [
            "[091/100] Train Acc: 6.25999 Loss: 1.48239 | Val Acc: 6.11602 loss: 1.53227\n"
          ]
        },
        {
          "name": "stderr",
          "output_type": "stream",
          "text": [
            "100%|██████████| 3103/3103 [00:38<00:00, 81.25it/s]\n",
            "100%|██████████| 1032/1032 [00:10<00:00, 96.87it/s]\n"
          ]
        },
        {
          "name": "stdout",
          "output_type": "stream",
          "text": [
            "[092/100] Train Acc: 6.26019 Loss: 1.48179 | Val Acc: 6.11155 loss: 1.53380\n"
          ]
        },
        {
          "name": "stderr",
          "output_type": "stream",
          "text": [
            "100%|██████████| 3103/3103 [00:38<00:00, 79.60it/s]\n",
            "100%|██████████| 1032/1032 [00:10<00:00, 98.50it/s] \n"
          ]
        },
        {
          "name": "stdout",
          "output_type": "stream",
          "text": [
            "[093/100] Train Acc: 6.26302 Loss: 1.48101 | Val Acc: 6.11633 loss: 1.53154\n"
          ]
        },
        {
          "name": "stderr",
          "output_type": "stream",
          "text": [
            "100%|██████████| 3103/3103 [00:38<00:00, 81.12it/s]\n",
            "100%|██████████| 1032/1032 [00:10<00:00, 98.81it/s] \n"
          ]
        },
        {
          "name": "stdout",
          "output_type": "stream",
          "text": [
            "[094/100] Train Acc: 6.26477 Loss: 1.48040 | Val Acc: 6.12964 loss: 1.52907\n",
            "saving model with acc 6.12964\n"
          ]
        },
        {
          "name": "stderr",
          "output_type": "stream",
          "text": [
            "100%|██████████| 3103/3103 [00:39<00:00, 79.39it/s]\n",
            "100%|██████████| 1032/1032 [00:10<00:00, 99.02it/s] \n"
          ]
        },
        {
          "name": "stdout",
          "output_type": "stream",
          "text": [
            "[095/100] Train Acc: 6.26803 Loss: 1.47952 | Val Acc: 6.12860 loss: 1.53048\n"
          ]
        },
        {
          "name": "stderr",
          "output_type": "stream",
          "text": [
            "100%|██████████| 3103/3103 [00:37<00:00, 81.87it/s]\n",
            "100%|██████████| 1032/1032 [00:10<00:00, 99.28it/s]\n"
          ]
        },
        {
          "name": "stdout",
          "output_type": "stream",
          "text": [
            "[096/100] Train Acc: 6.26984 Loss: 1.47889 | Val Acc: 6.11608 loss: 1.53417\n"
          ]
        },
        {
          "name": "stderr",
          "output_type": "stream",
          "text": [
            "100%|██████████| 3103/3103 [00:37<00:00, 81.92it/s]\n",
            "100%|██████████| 1032/1032 [00:10<00:00, 99.91it/s] \n"
          ]
        },
        {
          "name": "stdout",
          "output_type": "stream",
          "text": [
            "[097/100] Train Acc: 6.27095 Loss: 1.47819 | Val Acc: 6.12526 loss: 1.53036\n"
          ]
        },
        {
          "name": "stderr",
          "output_type": "stream",
          "text": [
            "100%|██████████| 3103/3103 [00:39<00:00, 79.11it/s]\n",
            "100%|██████████| 1032/1032 [00:10<00:00, 96.42it/s]\n"
          ]
        },
        {
          "name": "stdout",
          "output_type": "stream",
          "text": [
            "[098/100] Train Acc: 6.27324 Loss: 1.47757 | Val Acc: 6.11979 loss: 1.53116\n"
          ]
        },
        {
          "name": "stderr",
          "output_type": "stream",
          "text": [
            "100%|██████████| 3103/3103 [00:39<00:00, 78.85it/s]\n",
            "100%|██████████| 1032/1032 [00:10<00:00, 96.90it/s] \n"
          ]
        },
        {
          "name": "stdout",
          "output_type": "stream",
          "text": [
            "[099/100] Train Acc: 6.27372 Loss: 1.47702 | Val Acc: 6.12904 loss: 1.52838\n"
          ]
        },
        {
          "name": "stderr",
          "output_type": "stream",
          "text": [
            "100%|██████████| 3103/3103 [00:38<00:00, 80.75it/s]\n",
            "100%|██████████| 1032/1032 [00:10<00:00, 97.78it/s] "
          ]
        },
        {
          "name": "stdout",
          "output_type": "stream",
          "text": [
            "[100/100] Train Acc: 6.27669 Loss: 1.47621 | Val Acc: 6.12590 loss: 1.53029\n",
            "total train time: 4781, avg train time per epoch: 47\n"
          ]
        },
        {
          "name": "stderr",
          "output_type": "stream",
          "text": [
            "\n"
          ]
        }
      ],
      "source": [
        "train_loop_rnn()"
      ]
    },
    {
      "cell_type": "code",
      "execution_count": null,
      "metadata": {
        "colab": {
          "base_uri": "https://localhost:8080/",
          "height": 217
        },
        "id": "ab33MxosWLmG",
        "outputId": "ed4024cb-be9f-4959-90f8-b1311b3cdf3a"
      },
      "outputs": [
        {
          "data": {
            "text/plain": [
              "0"
            ]
          },
          "execution_count": 64,
          "metadata": {},
          "output_type": "execute_result"
        }
      ],
      "source": [
        "del train_set, val_set\n",
        "del train_loader, val_loader\n",
        "gc.collect()"
      ]
    },
    {
      "cell_type": "markdown",
      "metadata": {
        "id": "4d2W_sIrdAlF"
      },
      "source": [
        "# Visualizaion"
      ]
    },
    {
      "cell_type": "code",
      "execution_count": null,
      "metadata": {
        "id": "MxqVuJ-WdAlF",
        "outputId": "639f5ea0-b5a7-439e-eb5a-eb05830d0c6c"
      },
      "outputs": [
        {
          "data": {
            "text/plain": [
              "Reusing TensorBoard on port 6007 (pid 16324), started 22:42:35 ago. (Use '!kill 16324' to kill it.)"
            ]
          },
          "metadata": {},
          "output_type": "display_data"
        },
        {
          "data": {
            "text/html": [
              "\n",
              "      <iframe id=\"tensorboard-frame-aed219111a3a5119\" width=\"100%\" height=\"800\" frameborder=\"0\">\n",
              "      </iframe>\n",
              "      <script>\n",
              "        (function() {\n",
              "          const frame = document.getElementById(\"tensorboard-frame-aed219111a3a5119\");\n",
              "          const url = new URL(\"http://localhost\");\n",
              "          const port = 6007;\n",
              "          if (port) {\n",
              "            url.port = port;\n",
              "          }\n",
              "          frame.src = url;\n",
              "        })();\n",
              "      </script>\n",
              "    "
            ],
            "text/plain": [
              "<IPython.core.display.HTML object>"
            ]
          },
          "metadata": {},
          "output_type": "display_data"
        }
      ],
      "source": [
        "%reload_ext tensorboard\n",
        "%tensorboard --logdir=./runs/"
      ]
    },
    {
      "cell_type": "markdown",
      "metadata": {
        "id": "1Hi7jTn3PX-m"
      },
      "source": [
        "# Testing\n",
        "Create a testing dataset, and load model from the saved checkpoint."
      ]
    },
    {
      "cell_type": "code",
      "execution_count": null,
      "metadata": {
        "colab": {
          "base_uri": "https://localhost:8080/"
        },
        "id": "VOG1Ou0PGrhc",
        "outputId": "189ddfb6-246a-4d56-ac38-7717748ec61b"
      },
      "outputs": [
        {
          "name": "stdout",
          "output_type": "stream",
          "text": [
            "[Dataset] - # phone classes: 41, number of utterances for test: 857\n"
          ]
        },
        {
          "name": "stderr",
          "output_type": "stream",
          "text": [
            "857it [00:01, 462.39it/s]\n"
          ]
        },
        {
          "name": "stdout",
          "output_type": "stream",
          "text": [
            "[INFO] test set\n",
            "torch.Size([527364, 429])\n"
          ]
        }
      ],
      "source": [
        "# load data\n",
        "test_X = preprocess_data(split='test', feat_dir='./libriphone/feat', phone_path='./libriphone', concat_nframes=concat_nframes)\n",
        "test_set = LibriDataset(test_X, None)\n",
        "test_loader = DataLoader(test_set, batch_size=batch_size, shuffle=False)"
      ]
    },
    {
      "cell_type": "code",
      "execution_count": null,
      "metadata": {
        "id": "-MxvbtjldAlF",
        "outputId": "6d777fba-db5d-4adf-db59-5f321fc9ae99"
      },
      "outputs": [
        {
          "name": "stdout",
          "output_type": "stream",
          "text": [
            "[Dataset] - # phone classes: 41, number of utterances for test: 857\n"
          ]
        },
        {
          "name": "stderr",
          "output_type": "stream",
          "text": [
            "857it [00:01, 475.28it/s]"
          ]
        },
        {
          "name": "stdout",
          "output_type": "stream",
          "text": [
            "[INFO] test set\n",
            "torch.Size([527364, 11, 39])\n"
          ]
        },
        {
          "name": "stderr",
          "output_type": "stream",
          "text": [
            "\n"
          ]
        }
      ],
      "source": [
        "# load test data\n",
        "test_X = preprocess_data_rnn(split='test', feat_dir='./libriphone/feat', phone_path='./libriphone', seq_len=seq_len)\n",
        "test_set = LibriDataset(test_X, None)\n",
        "test_loader = DataLoader(test_set, batch_size=batch_size, shuffle=False)"
      ]
    },
    {
      "cell_type": "markdown",
      "metadata": {
        "id": "zp-DV1p4r7Nz"
      },
      "source": [
        "Make prediction."
      ]
    },
    {
      "cell_type": "code",
      "execution_count": null,
      "metadata": {
        "id": "84HU5GGjPqR0"
      },
      "outputs": [],
      "source": [
        "pred = np.array([], dtype=np.int32)\n",
        "\n",
        "model.eval()\n",
        "with torch.no_grad():\n",
        "    for i, batch in enumerate(tqdm(test_loader)):\n",
        "        features = batch\n",
        "        features = features.to(device)\n",
        "\n",
        "        outputs = model(features)\n",
        "\n",
        "        _, test_pred = torch.max(outputs, 1) # get the index of the class with the highest probability\n",
        "        pred = np.concatenate((pred, test_pred.cpu().numpy()), axis=0)\n"
      ]
    },
    {
      "cell_type": "code",
      "execution_count": null,
      "metadata": {
        "id": "1sDCqS2BdAlG",
        "outputId": "dd02f927-aaa2-44d7-b90d-50c2baf4031d"
      },
      "outputs": [
        {
          "name": "stderr",
          "output_type": "stream",
          "text": [
            "100%|██████████| 1031/1031 [00:15<00:00, 65.74it/s] \n"
          ]
        }
      ],
      "source": [
        "# load model\n",
        "pred = np.array([], dtype=np.int32)\n",
        "\n",
        "model.eval()\n",
        "with torch.no_grad():\n",
        "    for i, features in enumerate(tqdm(test_loader)):\n",
        "\n",
        "        batch_size = len(features)\n",
        "        features = features.to(device)\n",
        "\n",
        "        outputs = model(features) # Model对于每个feature输出 #seq_len条预测(41维度的向量)，但是输出格式为(batch_size*seq_len, #class)\n",
        "        outputs = outputs.view(batch_size, seq_len, -1) # 变为 (batch, seq_len, #class)\n",
        "\n",
        "        # sequence 上每个frame的判断\n",
        "        _, test_pred = torch.max(outputs, 2) #get the index of the class with the highest probability\n",
        "        test_pred, _ = torch.mode(test_pred, 1) # 对于一个feature已经得到了#seq_len个预测，投票选择最终的预测结果\n",
        "\n",
        "        pred = np.concatenate((pred, test_pred.cpu().numpy()), axis=0)"
      ]
    },
    {
      "cell_type": "markdown",
      "metadata": {
        "id": "wyZqy40Prz0v"
      },
      "source": [
        "Write prediction to a CSV file.\n",
        "\n",
        "After finish running this block, download the file `prediction.csv` from the files section on the left-hand side and submit it to Kaggle."
      ]
    },
    {
      "cell_type": "code",
      "execution_count": null,
      "metadata": {
        "id": "GuljYSPHcZir"
      },
      "outputs": [],
      "source": [
        "with open('prediction.csv', 'w') as f:\n",
        "    f.write('Id,Class\\n')\n",
        "    for i, y in enumerate(pred):\n",
        "        f.write('{},{}\\n'.format(i, y))"
      ]
    }
  ],
  "metadata": {
    "accelerator": "GPU",
    "colab": {
      "provenance": [],
      "include_colab_link": true
    },
    "kernelspec": {
      "display_name": "Python 3",
      "name": "python3"
    },
    "language_info": {
      "codemirror_mode": {
        "name": "ipython",
        "version": 3
      },
      "file_extension": ".py",
      "mimetype": "text/x-python",
      "name": "python",
      "nbconvert_exporter": "python",
      "pygments_lexer": "ipython3",
      "version": "3.10.13"
    }
  },
  "nbformat": 4,
  "nbformat_minor": 0
}